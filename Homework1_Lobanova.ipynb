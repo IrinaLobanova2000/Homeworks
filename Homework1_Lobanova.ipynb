{
 "cells": [
  {
   "cell_type": "code",
   "execution_count": 85,
   "metadata": {},
   "outputs": [],
   "source": [
    "import requests\n",
    "import pandas as pd\n",
    "from pprint import pprint\n",
    "import sqlite3\n",
    "from html import unescape\n",
    "from bs4 import BeautifulSoup\n",
    "import re\n",
    "session = requests.session()\n",
    "from fake_useragent import UserAgent\n",
    "ua = UserAgent(verify_ssl=False)\n",
    "import nltk\n",
    "from nltk.tokenize import word_tokenize\n",
    "from pymorphy2 import MorphAnalyzer\n",
    "morph = MorphAnalyzer()\n",
    "from sklearn.feature_extraction.text import CountVectorizer, TfidfVectorizer\n",
    "from sklearn.metrics.pairwise import cosine_similarity, cosine_distances\n",
    "from collections import Counter\n",
    "from sklearn.metrics import accuracy_score"
   ]
  },
  {
   "cell_type": "markdown",
   "metadata": {},
   "source": [
    "*Ищем положительные отзывы и очищаем их от тегов*"
   ]
  },
  {
   "cell_type": "code",
   "execution_count": 201,
   "metadata": {
    "scrolled": true
   },
   "outputs": [],
   "source": [
    "url_good = f'https://www.kinopoisk.ru/film/688/reviews/?status=good&ord=date&rnd=1601992343&perpage=50'\n",
    "req = session.get(url_good, headers={'User-Agent': ua.random})\n",
    "page = req.text\n",
    "soup = BeautifulSoup(page, 'html.parser')\n",
    "good = soup.find_all('span', {'itemprop': 'reviewBody'})"
   ]
  },
  {
   "cell_type": "code",
   "execution_count": 202,
   "metadata": {},
   "outputs": [],
   "source": [
    "cleanr = re.compile('<.*?>')\n",
    "cleangood = re.sub(cleanr, '', str(good))"
   ]
  },
  {
   "cell_type": "markdown",
   "metadata": {},
   "source": [
    "*Ищем отрицательные отзывы и очищаем их от тегов*"
   ]
  },
  {
   "cell_type": "code",
   "execution_count": 211,
   "metadata": {},
   "outputs": [],
   "source": [
    "url_bad = f'https://www.kinopoisk.ru/film/407636/reviews/?status=bad&ord=date&rnd=1601997467&perpage=50&page=2'\n",
    "req = session.get(url_bad, headers={'User-Agent': ua.random})\n",
    "page = req.text\n",
    "soup = BeautifulSoup(page, 'html.parser')\n",
    "bad = soup.find_all('span', {'itemprop': 'reviewBody'})"
   ]
  },
  {
   "cell_type": "code",
   "execution_count": 215,
   "metadata": {},
   "outputs": [],
   "source": [
    "cleanr = re.compile('<.*?>')\n",
    "cleanbad = re.sub(cleanr, '', str(bad))"
   ]
  },
  {
   "cell_type": "markdown",
   "metadata": {},
   "source": [
    "*Ищем тестовые отзывы, очищаем их от тегов, кладем в список*"
   ]
  },
  {
   "cell_type": "code",
   "execution_count": 204,
   "metadata": {},
   "outputs": [],
   "source": [
    "url_test = f'https://www.kinopoisk.ru/film/1143242/reviews/'\n",
    "req = session.get(url_test, headers={'User-Agent': ua.random})\n",
    "page = req.text\n",
    "soup = BeautifulSoup(page, 'html.parser')\n",
    "test = soup.find_all('span', {'itemprop': 'reviewBody'})"
   ]
  },
  {
   "cell_type": "code",
   "execution_count": 205,
   "metadata": {},
   "outputs": [],
   "source": [
    "test_sp = str(test).split('<span class=\"_reachbanner_\" itemprop=\"reviewBody\">')\n",
    "for i in test_sp:\n",
    "    cleant = re.compile('<.*?>')\n",
    "    cleantest = re.sub(cleant, '', str(i))\n",
    "    cleanre = re.compile('[^а-яёА-ЯЁ ]')\n",
    "    cleantest = re.sub(cleanre, '', str(i))\n",
    "del test_sp[0]"
   ]
  },
  {
   "cell_type": "markdown",
   "metadata": {},
   "source": [
    "*Приводим текст к нижнему регистру и токенизируем в функции, а затем применяем ее для положительных и отрицательных комментариев* "
   ]
  },
  {
   "cell_type": "code",
   "execution_count": 206,
   "metadata": {},
   "outputs": [],
   "source": [
    "def tokenizing(text):\n",
    "    text = text.lower()\n",
    "    lemmas = []\n",
    "    token = word_tokenize(text)\n",
    "    for word in token:\n",
    "        an = morph.parse(word)\n",
    "        first = an[0]\n",
    "        lemma = first.normal_form\n",
    "        lemmas.append(lemma)\n",
    "    return(lemmas)"
   ]
  },
  {
   "cell_type": "code",
   "execution_count": 212,
   "metadata": {},
   "outputs": [],
   "source": [
    "def low_freq(text):\n",
    "    freqlist = Counter()\n",
    "    for word in text:\n",
    "        if word.isalpha():\n",
    "            freqlist[word] += 1\n",
    "    d = dict(freqlist.most_common())\n",
    "    for w in d:\n",
    "        if d.get(w)<=2:\n",
    "            text.remove(w)"
   ]
  },
  {
   "cell_type": "code",
   "execution_count": 213,
   "metadata": {},
   "outputs": [],
   "source": [
    "tokbad = tokenizing(cleanbad)\n",
    "tokgood = tokenizing(cleangood)"
   ]
  },
  {
   "cell_type": "code",
   "execution_count": 214,
   "metadata": {},
   "outputs": [],
   "source": [
    "low_freq(tokbad)\n",
    "low_freq(tokgood)"
   ]
  },
  {
   "cell_type": "markdown",
   "metadata": {},
   "source": [
    "*Делим комментарии на 2 множества*"
   ]
  },
  {
   "cell_type": "code",
   "execution_count": 196,
   "metadata": {
    "scrolled": false
   },
   "outputs": [],
   "source": [
    "good_comments = set(tokgood)\n",
    "bad_comments = set(tokbad)\n",
    "only_bad = bad_comments.difference(good_comments)\n",
    "only_good = good_comments.difference(bad_comments)"
   ]
  },
  {
   "cell_type": "markdown",
   "metadata": {},
   "source": [
    "*Создаем список, в который добавляем информацию о тестовых комментариях: 1 - положительный, 0 - отрицательный*"
   ]
  },
  {
   "cell_type": "code",
   "execution_count": 197,
   "metadata": {},
   "outputs": [],
   "source": [
    "lis = []"
   ]
  },
  {
   "cell_type": "code",
   "execution_count": 198,
   "metadata": {},
   "outputs": [],
   "source": [
    "def good_or_bad(comment):\n",
    "    g = 0\n",
    "    b = 0 \n",
    "    x = 0\n",
    "    for i in comment:\n",
    "        if i in only_good:\n",
    "            g+=1\n",
    "        elif i in only_bad:\n",
    "            b+=1\n",
    "    if g>=b:\n",
    "        x = 1\n",
    "    else:\n",
    "        x = 0\n",
    "    lis.append(x)\n",
    "    return lis"
   ]
  },
  {
   "cell_type": "code",
   "execution_count": 199,
   "metadata": {},
   "outputs": [],
   "source": [
    "for i in test_sp:\n",
    "    good_or_bad(i)"
   ]
  },
  {
   "cell_type": "markdown",
   "metadata": {},
   "source": [
    "*Сравниваем получившийся список с правильными ответом при помощи accuracy*"
   ]
  },
  {
   "cell_type": "code",
   "execution_count": 200,
   "metadata": {},
   "outputs": [
    {
     "data": {
      "text/plain": [
       "0.7"
      ]
     },
     "execution_count": 200,
     "metadata": {},
     "output_type": "execute_result"
    }
   ],
   "source": [
    "correct = [1, 1, 1, 1, 0, 0, 1, 1, 0, 1]\n",
    "accuracy_score(lis, correct)"
   ]
  },
  {
   "cell_type": "markdown",
   "metadata": {},
   "source": [
    "**Как можно улучшить программу:**\n",
    "*1)Добавить визуализацию (облако) для слов, встречающихся только в положительных или отрицательных комментариях;*\n",
    "*2)Избавиться от служебных слов*"
   ]
  },
  {
   "cell_type": "code",
   "execution_count": null,
   "metadata": {},
   "outputs": [],
   "source": []
  }
 ],
 "metadata": {
  "kernelspec": {
   "display_name": "Python 3",
   "language": "python",
   "name": "python3"
  },
  "language_info": {
   "codemirror_mode": {
    "name": "ipython",
    "version": 3
   },
   "file_extension": ".py",
   "mimetype": "text/x-python",
   "name": "python",
   "nbconvert_exporter": "python",
   "pygments_lexer": "ipython3",
   "version": "3.7.0"
  }
 },
 "nbformat": 4,
 "nbformat_minor": 2
}
