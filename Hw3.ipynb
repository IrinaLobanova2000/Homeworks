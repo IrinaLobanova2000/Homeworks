{
  "nbformat": 4,
  "nbformat_minor": 0,
  "metadata": {
    "kernelspec": {
      "display_name": "Python 3",
      "language": "python",
      "name": "python3"
    },
    "language_info": {
      "codemirror_mode": {
        "name": "ipython",
        "version": 3
      },
      "file_extension": ".py",
      "mimetype": "text/x-python",
      "name": "python",
      "nbconvert_exporter": "python",
      "pygments_lexer": "ipython3",
      "version": "3.7.0"
    },
    "colab": {
      "name": "Hw3.ipynb",
      "provenance": [],
      "collapsed_sections": []
    }
  },
  "cells": [
    {
      "cell_type": "code",
      "metadata": {
        "id": "Va5DaqY5L51g",
        "outputId": "e47c846c-3480-4afc-f32a-00212e299753",
        "colab": {
          "base_uri": "https://localhost:8080/",
          "height": 381
        }
      },
      "source": [
        "!pip install pyLDAvis"
      ],
      "execution_count": 151,
      "outputs": [
        {
          "output_type": "stream",
          "text": [
            "Requirement already satisfied: pyLDAvis in /usr/local/lib/python3.6/dist-packages (2.1.2)\n",
            "Requirement already satisfied: scipy>=0.18.0 in /usr/local/lib/python3.6/dist-packages (from pyLDAvis) (1.4.1)\n",
            "Requirement already satisfied: numpy>=1.9.2 in /usr/local/lib/python3.6/dist-packages (from pyLDAvis) (1.18.5)\n",
            "Requirement already satisfied: jinja2>=2.7.2 in /usr/local/lib/python3.6/dist-packages (from pyLDAvis) (2.11.2)\n",
            "Requirement already satisfied: joblib>=0.8.4 in /usr/local/lib/python3.6/dist-packages (from pyLDAvis) (0.16.0)\n",
            "Requirement already satisfied: future in /usr/local/lib/python3.6/dist-packages (from pyLDAvis) (0.16.0)\n",
            "Requirement already satisfied: numexpr in /usr/local/lib/python3.6/dist-packages (from pyLDAvis) (2.7.1)\n",
            "Requirement already satisfied: pytest in /usr/local/lib/python3.6/dist-packages (from pyLDAvis) (3.6.4)\n",
            "Requirement already satisfied: funcy in /usr/local/lib/python3.6/dist-packages (from pyLDAvis) (1.15)\n",
            "Requirement already satisfied: pandas>=0.17.0 in /usr/local/lib/python3.6/dist-packages (from pyLDAvis) (1.1.2)\n",
            "Requirement already satisfied: wheel>=0.23.0 in /usr/local/lib/python3.6/dist-packages (from pyLDAvis) (0.35.1)\n",
            "Requirement already satisfied: MarkupSafe>=0.23 in /usr/local/lib/python3.6/dist-packages (from jinja2>=2.7.2->pyLDAvis) (1.1.1)\n",
            "Requirement already satisfied: six>=1.10.0 in /usr/local/lib/python3.6/dist-packages (from pytest->pyLDAvis) (1.15.0)\n",
            "Requirement already satisfied: pluggy<0.8,>=0.5 in /usr/local/lib/python3.6/dist-packages (from pytest->pyLDAvis) (0.7.1)\n",
            "Requirement already satisfied: py>=1.5.0 in /usr/local/lib/python3.6/dist-packages (from pytest->pyLDAvis) (1.9.0)\n",
            "Requirement already satisfied: more-itertools>=4.0.0 in /usr/local/lib/python3.6/dist-packages (from pytest->pyLDAvis) (8.5.0)\n",
            "Requirement already satisfied: setuptools in /usr/local/lib/python3.6/dist-packages (from pytest->pyLDAvis) (50.3.0)\n",
            "Requirement already satisfied: attrs>=17.4.0 in /usr/local/lib/python3.6/dist-packages (from pytest->pyLDAvis) (20.2.0)\n",
            "Requirement already satisfied: atomicwrites>=1.0 in /usr/local/lib/python3.6/dist-packages (from pytest->pyLDAvis) (1.4.0)\n",
            "Requirement already satisfied: pytz>=2017.2 in /usr/local/lib/python3.6/dist-packages (from pandas>=0.17.0->pyLDAvis) (2018.9)\n",
            "Requirement already satisfied: python-dateutil>=2.7.3 in /usr/local/lib/python3.6/dist-packages (from pandas>=0.17.0->pyLDAvis) (2.8.1)\n"
          ],
          "name": "stdout"
        }
      ]
    },
    {
      "cell_type": "code",
      "metadata": {
        "id": "66lMB8xxLxuV"
      },
      "source": [
        "import re\n",
        "import numpy as np\n",
        "import pandas as pd\n",
        "from pprint import pprint\n",
        "\n",
        "# Gensim\n",
        "import gensim\n",
        "import gensim.corpora as corpora\n",
        "from gensim.utils import simple_preprocess\n",
        "from gensim.models import CoherenceModel\n",
        "\n",
        "# spacy for lemmatization\n",
        "import spacy\n",
        "\n",
        "# Plotting tools\n",
        "import pyLDAvis\n",
        "import pyLDAvis.gensim  # don't skip this\n",
        "import matplotlib.pyplot as plt\n",
        "%matplotlib inline\n",
        "\n",
        "# Enable logging for gensim - optional\n",
        "import logging\n",
        "logging.basicConfig(format='%(asctime)s : %(levelname)s : %(message)s', level=logging.ERROR)\n",
        "\n",
        "import warnings\n",
        "warnings.filterwarnings(\"ignore\",category=DeprecationWarning)"
      ],
      "execution_count": 152,
      "outputs": []
    },
    {
      "cell_type": "code",
      "metadata": {
        "id": "bmZWKaA-Lxub",
        "outputId": "3fa7c130-b454-4d4d-d4b9-2e06a1fe82eb",
        "colab": {
          "base_uri": "https://localhost:8080/",
          "height": 505
        }
      },
      "source": [
        "!python3 -m spacy download en"
      ],
      "execution_count": 153,
      "outputs": [
        {
          "output_type": "stream",
          "text": [
            "Requirement already satisfied: en_core_web_sm==2.2.5 from https://github.com/explosion/spacy-models/releases/download/en_core_web_sm-2.2.5/en_core_web_sm-2.2.5.tar.gz#egg=en_core_web_sm==2.2.5 in /usr/local/lib/python3.6/dist-packages (2.2.5)\n",
            "Requirement already satisfied: spacy>=2.2.2 in /usr/local/lib/python3.6/dist-packages (from en_core_web_sm==2.2.5) (2.2.4)\n",
            "Requirement already satisfied: plac<1.2.0,>=0.9.6 in /usr/local/lib/python3.6/dist-packages (from spacy>=2.2.2->en_core_web_sm==2.2.5) (1.1.3)\n",
            "Requirement already satisfied: murmurhash<1.1.0,>=0.28.0 in /usr/local/lib/python3.6/dist-packages (from spacy>=2.2.2->en_core_web_sm==2.2.5) (1.0.2)\n",
            "Requirement already satisfied: tqdm<5.0.0,>=4.38.0 in /usr/local/lib/python3.6/dist-packages (from spacy>=2.2.2->en_core_web_sm==2.2.5) (4.41.1)\n",
            "Requirement already satisfied: numpy>=1.15.0 in /usr/local/lib/python3.6/dist-packages (from spacy>=2.2.2->en_core_web_sm==2.2.5) (1.18.5)\n",
            "Requirement already satisfied: thinc==7.4.0 in /usr/local/lib/python3.6/dist-packages (from spacy>=2.2.2->en_core_web_sm==2.2.5) (7.4.0)\n",
            "Requirement already satisfied: srsly<1.1.0,>=1.0.2 in /usr/local/lib/python3.6/dist-packages (from spacy>=2.2.2->en_core_web_sm==2.2.5) (1.0.2)\n",
            "Requirement already satisfied: catalogue<1.1.0,>=0.0.7 in /usr/local/lib/python3.6/dist-packages (from spacy>=2.2.2->en_core_web_sm==2.2.5) (1.0.0)\n",
            "Requirement already satisfied: cymem<2.1.0,>=2.0.2 in /usr/local/lib/python3.6/dist-packages (from spacy>=2.2.2->en_core_web_sm==2.2.5) (2.0.3)\n",
            "Requirement already satisfied: preshed<3.1.0,>=3.0.2 in /usr/local/lib/python3.6/dist-packages (from spacy>=2.2.2->en_core_web_sm==2.2.5) (3.0.2)\n",
            "Requirement already satisfied: setuptools in /usr/local/lib/python3.6/dist-packages (from spacy>=2.2.2->en_core_web_sm==2.2.5) (50.3.0)\n",
            "Requirement already satisfied: requests<3.0.0,>=2.13.0 in /usr/local/lib/python3.6/dist-packages (from spacy>=2.2.2->en_core_web_sm==2.2.5) (2.23.0)\n",
            "Requirement already satisfied: blis<0.5.0,>=0.4.0 in /usr/local/lib/python3.6/dist-packages (from spacy>=2.2.2->en_core_web_sm==2.2.5) (0.4.1)\n",
            "Requirement already satisfied: wasabi<1.1.0,>=0.4.0 in /usr/local/lib/python3.6/dist-packages (from spacy>=2.2.2->en_core_web_sm==2.2.5) (0.8.0)\n",
            "Requirement already satisfied: importlib-metadata>=0.20; python_version < \"3.8\" in /usr/local/lib/python3.6/dist-packages (from catalogue<1.1.0,>=0.0.7->spacy>=2.2.2->en_core_web_sm==2.2.5) (2.0.0)\n",
            "Requirement already satisfied: certifi>=2017.4.17 in /usr/local/lib/python3.6/dist-packages (from requests<3.0.0,>=2.13.0->spacy>=2.2.2->en_core_web_sm==2.2.5) (2020.6.20)\n",
            "Requirement already satisfied: idna<3,>=2.5 in /usr/local/lib/python3.6/dist-packages (from requests<3.0.0,>=2.13.0->spacy>=2.2.2->en_core_web_sm==2.2.5) (2.10)\n",
            "Requirement already satisfied: chardet<4,>=3.0.2 in /usr/local/lib/python3.6/dist-packages (from requests<3.0.0,>=2.13.0->spacy>=2.2.2->en_core_web_sm==2.2.5) (3.0.4)\n",
            "Requirement already satisfied: urllib3!=1.25.0,!=1.25.1,<1.26,>=1.21.1 in /usr/local/lib/python3.6/dist-packages (from requests<3.0.0,>=2.13.0->spacy>=2.2.2->en_core_web_sm==2.2.5) (1.24.3)\n",
            "Requirement already satisfied: zipp>=0.5 in /usr/local/lib/python3.6/dist-packages (from importlib-metadata>=0.20; python_version < \"3.8\"->catalogue<1.1.0,>=0.0.7->spacy>=2.2.2->en_core_web_sm==2.2.5) (3.2.0)\n",
            "\u001b[38;5;2m✔ Download and installation successful\u001b[0m\n",
            "You can now load the model via spacy.load('en_core_web_sm')\n",
            "\u001b[38;5;2m✔ Linking successful\u001b[0m\n",
            "/usr/local/lib/python3.6/dist-packages/en_core_web_sm -->\n",
            "/usr/local/lib/python3.6/dist-packages/spacy/data/en\n",
            "You can now load the model via spacy.load('en')\n"
          ],
          "name": "stdout"
        }
      ]
    },
    {
      "cell_type": "code",
      "metadata": {
        "id": "Ab2Kg5YgLxuf",
        "outputId": "b1caaba8-31b1-4eff-e539-3fe1f97eb33e",
        "colab": {
          "base_uri": "https://localhost:8080/",
          "height": 52
        }
      },
      "source": [
        "import nltk\n",
        "nltk.download('stopwords')\n",
        "from nltk.corpus import stopwords\n",
        "stop_words = stopwords.words('english')\n",
        "stop_words.extend(['from', 'subject', 're', 'edu', 'use'])"
      ],
      "execution_count": 154,
      "outputs": [
        {
          "output_type": "stream",
          "text": [
            "[nltk_data] Downloading package stopwords to /root/nltk_data...\n",
            "[nltk_data]   Package stopwords is already up-to-date!\n"
          ],
          "name": "stdout"
        }
      ]
    },
    {
      "cell_type": "code",
      "metadata": {
        "id": "2U_mfMWZLxui",
        "outputId": "43a6d3b2-0b26-4da5-fd6b-c26324ac50af",
        "colab": {
          "base_uri": "https://localhost:8080/",
          "height": 306
        }
      },
      "source": [
        "df = pd.read_json('https://raw.githubusercontent.com/selva86/datasets/master/newsgroups.json')\n",
        "print(df.target_names.unique())\n",
        "df.head()"
      ],
      "execution_count": 6,
      "outputs": [
        {
          "output_type": "stream",
          "text": [
            "['rec.autos' 'comp.sys.mac.hardware' 'comp.graphics' 'sci.space'\n",
            " 'talk.politics.guns' 'sci.med' 'comp.sys.ibm.pc.hardware'\n",
            " 'comp.os.ms-windows.misc' 'rec.motorcycles' 'talk.religion.misc'\n",
            " 'misc.forsale' 'alt.atheism' 'sci.electronics' 'comp.windows.x'\n",
            " 'rec.sport.hockey' 'rec.sport.baseball' 'soc.religion.christian'\n",
            " 'talk.politics.mideast' 'talk.politics.misc' 'sci.crypt']\n"
          ],
          "name": "stdout"
        },
        {
          "output_type": "execute_result",
          "data": {
            "text/html": [
              "<div>\n",
              "<style scoped>\n",
              "    .dataframe tbody tr th:only-of-type {\n",
              "        vertical-align: middle;\n",
              "    }\n",
              "\n",
              "    .dataframe tbody tr th {\n",
              "        vertical-align: top;\n",
              "    }\n",
              "\n",
              "    .dataframe thead th {\n",
              "        text-align: right;\n",
              "    }\n",
              "</style>\n",
              "<table border=\"1\" class=\"dataframe\">\n",
              "  <thead>\n",
              "    <tr style=\"text-align: right;\">\n",
              "      <th></th>\n",
              "      <th>content</th>\n",
              "      <th>target</th>\n",
              "      <th>target_names</th>\n",
              "    </tr>\n",
              "  </thead>\n",
              "  <tbody>\n",
              "    <tr>\n",
              "      <th>0</th>\n",
              "      <td>From: lerxst@wam.umd.edu (where's my thing)\\nS...</td>\n",
              "      <td>7</td>\n",
              "      <td>rec.autos</td>\n",
              "    </tr>\n",
              "    <tr>\n",
              "      <th>1</th>\n",
              "      <td>From: guykuo@carson.u.washington.edu (Guy Kuo)...</td>\n",
              "      <td>4</td>\n",
              "      <td>comp.sys.mac.hardware</td>\n",
              "    </tr>\n",
              "    <tr>\n",
              "      <th>2</th>\n",
              "      <td>From: twillis@ec.ecn.purdue.edu (Thomas E Will...</td>\n",
              "      <td>4</td>\n",
              "      <td>comp.sys.mac.hardware</td>\n",
              "    </tr>\n",
              "    <tr>\n",
              "      <th>3</th>\n",
              "      <td>From: jgreen@amber (Joe Green)\\nSubject: Re: W...</td>\n",
              "      <td>1</td>\n",
              "      <td>comp.graphics</td>\n",
              "    </tr>\n",
              "    <tr>\n",
              "      <th>4</th>\n",
              "      <td>From: jcm@head-cfa.harvard.edu (Jonathan McDow...</td>\n",
              "      <td>14</td>\n",
              "      <td>sci.space</td>\n",
              "    </tr>\n",
              "  </tbody>\n",
              "</table>\n",
              "</div>"
            ],
            "text/plain": [
              "                                             content  ...           target_names\n",
              "0  From: lerxst@wam.umd.edu (where's my thing)\\nS...  ...              rec.autos\n",
              "1  From: guykuo@carson.u.washington.edu (Guy Kuo)...  ...  comp.sys.mac.hardware\n",
              "2  From: twillis@ec.ecn.purdue.edu (Thomas E Will...  ...  comp.sys.mac.hardware\n",
              "3  From: jgreen@amber (Joe Green)\\nSubject: Re: W...  ...          comp.graphics\n",
              "4  From: jcm@head-cfa.harvard.edu (Jonathan McDow...  ...              sci.space\n",
              "\n",
              "[5 rows x 3 columns]"
            ]
          },
          "metadata": {
            "tags": []
          },
          "execution_count": 6
        }
      ]
    },
    {
      "cell_type": "code",
      "metadata": {
        "id": "TUpKBllALxul",
        "outputId": "e8510580-9080-413d-a064-5f596a95fd90",
        "colab": {
          "base_uri": "https://localhost:8080/",
          "height": 191
        }
      },
      "source": [
        "data = df.content.values.tolist()\n",
        "\n",
        "# Remove Emails\n",
        "data = [re.sub('\\S*@\\S*\\s?', '', sent) for sent in data]\n",
        "\n",
        "# Remove new line characters\n",
        "data = [re.sub('\\s+', ' ', sent) for sent in data]\n",
        "\n",
        "# Remove distracting single quotes\n",
        "data = [re.sub(\"\\'\", \"\", sent) for sent in data]\n",
        "\n",
        "pprint(data[:1])"
      ],
      "execution_count": 7,
      "outputs": [
        {
          "output_type": "stream",
          "text": [
            "['From: (wheres my thing) Subject: WHAT car is this!? Nntp-Posting-Host: '\n",
            " 'rac3.wam.umd.edu Organization: University of Maryland, College Park Lines: '\n",
            " '15 I was wondering if anyone out there could enlighten me on this car I saw '\n",
            " 'the other day. It was a 2-door sports car, looked to be from the late 60s/ '\n",
            " 'early 70s. It was called a Bricklin. The doors were really small. In '\n",
            " 'addition, the front bumper was separate from the rest of the body. This is '\n",
            " 'all I know. If anyone can tellme a model name, engine specs, years of '\n",
            " 'production, where this car is made, history, or whatever info you have on '\n",
            " 'this funky looking car, please e-mail. Thanks, - IL ---- brought to you by '\n",
            " 'your neighborhood Lerxst ---- ']\n"
          ],
          "name": "stdout"
        }
      ]
    },
    {
      "cell_type": "code",
      "metadata": {
        "id": "4k32CRxzLxuo",
        "outputId": "322a8827-0270-43b7-a6d6-5f825153197c",
        "colab": {
          "base_uri": "https://localhost:8080/",
          "height": 55
        }
      },
      "source": [
        "def sent_to_words(sentences):\n",
        "    for sentence in sentences:\n",
        "        yield(gensim.utils.simple_preprocess(str(sentence), deacc=True))  # deacc=True removes punctuations\n",
        "\n",
        "data_words = list(sent_to_words(data))\n",
        "\n",
        "print(data_words[:1])"
      ],
      "execution_count": 8,
      "outputs": [
        {
          "output_type": "stream",
          "text": [
            "[['from', 'wheres', 'my', 'thing', 'subject', 'what', 'car', 'is', 'this', 'nntp', 'posting', 'host', 'rac', 'wam', 'umd', 'edu', 'organization', 'university', 'of', 'maryland', 'college', 'park', 'lines', 'was', 'wondering', 'if', 'anyone', 'out', 'there', 'could', 'enlighten', 'me', 'on', 'this', 'car', 'saw', 'the', 'other', 'day', 'it', 'was', 'door', 'sports', 'car', 'looked', 'to', 'be', 'from', 'the', 'late', 'early', 'it', 'was', 'called', 'bricklin', 'the', 'doors', 'were', 'really', 'small', 'in', 'addition', 'the', 'front', 'bumper', 'was', 'separate', 'from', 'the', 'rest', 'of', 'the', 'body', 'this', 'is', 'all', 'know', 'if', 'anyone', 'can', 'tellme', 'model', 'name', 'engine', 'specs', 'years', 'of', 'production', 'where', 'this', 'car', 'is', 'made', 'history', 'or', 'whatever', 'info', 'you', 'have', 'on', 'this', 'funky', 'looking', 'car', 'please', 'mail', 'thanks', 'il', 'brought', 'to', 'you', 'by', 'your', 'neighborhood', 'lerxst']]\n"
          ],
          "name": "stdout"
        }
      ]
    },
    {
      "cell_type": "code",
      "metadata": {
        "id": "5WP9HUl-Lxur",
        "outputId": "a9c4a419-e1e8-49d9-ca03-cf69db18f7cb",
        "colab": {
          "base_uri": "https://localhost:8080/",
          "height": 89
        }
      },
      "source": [
        "bigram = gensim.models.Phrases(data_words, min_count=5, threshold=100) # higher threshold fewer phrases.\n",
        "trigram = gensim.models.Phrases(bigram[data_words], threshold=100)  \n",
        "\n",
        "# Faster way to get a sentence clubbed as a trigram/bigram\n",
        "bigram_mod = gensim.models.phrases.Phraser(bigram)\n",
        "trigram_mod = gensim.models.phrases.Phraser(trigram)\n",
        "\n",
        "# See trigram example\n",
        "print(trigram_mod[bigram_mod[data_words[0]]])"
      ],
      "execution_count": 9,
      "outputs": [
        {
          "output_type": "stream",
          "text": [
            "/usr/local/lib/python3.6/dist-packages/gensim/models/phrases.py:598: UserWarning: For a faster implementation, use the gensim.models.phrases.Phraser class\n",
            "  warnings.warn(\"For a faster implementation, use the gensim.models.phrases.Phraser class\")\n"
          ],
          "name": "stderr"
        },
        {
          "output_type": "stream",
          "text": [
            "['from', 'wheres', 'my', 'thing', 'subject', 'what', 'car', 'is', 'this', 'nntp_posting_host', 'rac_wam_umd_edu', 'organization', 'university', 'of', 'maryland_college_park', 'lines', 'was', 'wondering', 'if', 'anyone', 'out', 'there', 'could', 'enlighten', 'me', 'on', 'this', 'car', 'saw', 'the', 'other', 'day', 'it', 'was', 'door', 'sports', 'car', 'looked', 'to', 'be', 'from', 'the', 'late', 'early', 'it', 'was', 'called', 'bricklin', 'the', 'doors', 'were', 'really', 'small', 'in', 'addition', 'the', 'front_bumper', 'was', 'separate', 'from', 'the', 'rest', 'of', 'the', 'body', 'this', 'is', 'all', 'know', 'if', 'anyone', 'can', 'tellme', 'model', 'name', 'engine', 'specs', 'years', 'of', 'production', 'where', 'this', 'car', 'is', 'made', 'history', 'or', 'whatever', 'info', 'you', 'have', 'on', 'this', 'funky', 'looking', 'car', 'please', 'mail', 'thanks', 'il', 'brought', 'to', 'you', 'by', 'your', 'neighborhood', 'lerxst']\n"
          ],
          "name": "stdout"
        }
      ]
    },
    {
      "cell_type": "code",
      "metadata": {
        "id": "b-urMRGGLxuu"
      },
      "source": [
        "def remove_stopwords(texts):\n",
        "    return [[word for word in simple_preprocess(str(doc)) if word not in stop_words] for doc in texts]\n",
        "\n",
        "def make_bigrams(texts):\n",
        "    return [bigram_mod[doc] for doc in texts]\n",
        "\n",
        "def make_trigrams(texts):\n",
        "    return [trigram_mod[bigram_mod[doc]] for doc in texts]\n",
        "\n",
        "def lemmatization(texts, allowed_postags=['NOUN', 'ADJ', 'VERB', 'ADV']):\n",
        "    \"\"\"https://spacy.io/api/annotation\"\"\"\n",
        "    texts_out = []\n",
        "    for sent in texts:\n",
        "        doc = nlp(\" \".join(sent)) \n",
        "        texts_out.append([token.lemma_ for token in doc if token.pos_ in allowed_postags])\n",
        "    return texts_out"
      ],
      "execution_count": 10,
      "outputs": []
    },
    {
      "cell_type": "code",
      "metadata": {
        "id": "DuH10TjaLxux",
        "outputId": "75396b79-7fbd-421d-b459-ba8872ae92ad",
        "colab": {
          "base_uri": "https://localhost:8080/",
          "height": 55
        }
      },
      "source": [
        "# Remove Stop Words\n",
        "data_words_nostops = remove_stopwords(data_words)\n",
        "\n",
        "# Form Bigrams\n",
        "data_words_bigrams = make_bigrams(data_words_nostops)\n",
        "\n",
        "# Initialize spacy 'en' model, keeping only tagger component (for efficiency)\n",
        "# python3 -m spacy download en\n",
        "nlp = spacy.load('en', disable=['parser', 'ner'])\n",
        "\n",
        "# Do lemmatization keeping only noun, adj, vb, adv\n",
        "data_lemmatized = lemmatization(data_words_bigrams, allowed_postags=['NOUN', 'ADJ', 'VERB', 'ADV'])\n",
        "\n",
        "print(data_lemmatized[:1])"
      ],
      "execution_count": 11,
      "outputs": [
        {
          "output_type": "stream",
          "text": [
            "[['where', 'thing', 'car', 'nntp_poste', 'host', 'park', 'line', 'wonder', 'could', 'enlighten', 'car', 'see', 'day', 'door', 'sport', 'car', 'look', 'late', 'early', 'call', 'bricklin', 'door', 'really', 'small', 'addition', 'separate', 'rest', 'body', 'know', 'tellme', 'model', 'name', 'engine', 'year', 'production', 'car', 'make', 'history', 'info', 'funky', 'look', 'car', 'mail', 'thank', 'bring', 'neighborhood', 'lerxst']]\n"
          ],
          "name": "stdout"
        }
      ]
    },
    {
      "cell_type": "code",
      "metadata": {
        "id": "CfGxewkvLxu2",
        "outputId": "feb2e224-a5d8-4ae5-8448-d99a107be25f",
        "colab": {
          "base_uri": "https://localhost:8080/",
          "height": 55
        }
      },
      "source": [
        "id2word = corpora.Dictionary(data_lemmatized)\n",
        "\n",
        "# Create Corpus\n",
        "texts = data_lemmatized\n",
        "\n",
        "# Term Document Frequency\n",
        "corpus = [id2word.doc2bow(text) for text in texts]\n",
        "\n",
        "# View\n",
        "print(corpus[:1])"
      ],
      "execution_count": 12,
      "outputs": [
        {
          "output_type": "stream",
          "text": [
            "[[(0, 1), (1, 1), (2, 1), (3, 1), (4, 1), (5, 5), (6, 1), (7, 1), (8, 2), (9, 1), (10, 1), (11, 1), (12, 1), (13, 1), (14, 1), (15, 1), (16, 1), (17, 1), (18, 1), (19, 1), (20, 2), (21, 1), (22, 1), (23, 1), (24, 1), (25, 1), (26, 1), (27, 1), (28, 1), (29, 1), (30, 1), (31, 1), (32, 1), (33, 1), (34, 1), (35, 1), (36, 1), (37, 1), (38, 1), (39, 1), (40, 1)]]\n"
          ],
          "name": "stdout"
        }
      ]
    },
    {
      "cell_type": "code",
      "metadata": {
        "id": "1mBCjnQ8tEnN"
      },
      "source": [
        "#Этот блок выдает ошибку \"CalledProcessError\"\n",
        "mallet_path = r'C:\\Users\\Иришка\\Downloads\\mallet-2.0.8' # update this path\n",
        "ldamallet = gensim.models.wrappers.LdaMallet(mallet_path, corpus=corpus, num_topics=20, id2word=id2word)\n",
        "\n",
        "# Show Topics\n",
        "pprint(ldamallet.show_topics(formatted=False))\n",
        "\n",
        "# Compute Coherence Score\n",
        "coherence_model_ldamallet = CoherenceModel(model=ldamallet, texts=data_lemmatized, dictionary=id2word, coherence='c_v')\n",
        "coherence_ldamallet = coherence_model_ldamallet.get_coherence()\n",
        "print('\\nCoherence Score: ', coherence_ldamallet)"
      ],
      "execution_count": null,
      "outputs": []
    },
    {
      "cell_type": "code",
      "metadata": {
        "id": "1sqV_yrwWg10"
      },
      "source": [
        "def best_group():\n",
        "  maxim = 0\n",
        "  number = 0\n",
        "  for i in range(10,30):\n",
        "    lda_model = gensim.models.ldamodel.LdaModel(corpus=corpus,\n",
        "                                           id2word=id2word,\n",
        "                                           num_topics=i, \n",
        "                                           random_state=100,\n",
        "                                           update_every=1,\n",
        "                                           chunksize=100,\n",
        "                                           passes=5,\n",
        "                                           alpha='auto',\n",
        "                                           per_word_topics=True)\n",
        "    coherence_model_lda = CoherenceModel(model=lda_model, texts=data_lemmatized, dictionary=id2word, coherence='c_v')\n",
        "    coherence_lda = coherence_model_lda.get_coherence()\n",
        "    if coherence_lda >= maxim:\n",
        "      maxim = coherence_lda\n",
        "      number = i\n",
        "    return number"
      ],
      "execution_count": 13,
      "outputs": []
    },
    {
      "cell_type": "code",
      "metadata": {
        "id": "S24aQV3bZzCr",
        "outputId": "ece6cdda-a70a-44aa-c18b-2676e58f0428",
        "colab": {
          "base_uri": "https://localhost:8080/",
          "height": 346
        }
      },
      "source": [
        "best_group()"
      ],
      "execution_count": 14,
      "outputs": [
        {
          "output_type": "error",
          "ename": "KeyboardInterrupt",
          "evalue": "ignored",
          "traceback": [
            "\u001b[0;31m---------------------------------------------------------------------------\u001b[0m",
            "\u001b[0;31mKeyboardInterrupt\u001b[0m                         Traceback (most recent call last)",
            "\u001b[0;32m<ipython-input-14-b79c567cfd8a>\u001b[0m in \u001b[0;36m<module>\u001b[0;34m()\u001b[0m\n\u001b[0;32m----> 1\u001b[0;31m \u001b[0mbest_group\u001b[0m\u001b[0;34m(\u001b[0m\u001b[0;34m)\u001b[0m\u001b[0;34m\u001b[0m\u001b[0;34m\u001b[0m\u001b[0m\n\u001b[0m",
            "\u001b[0;32m<ipython-input-13-015bbb79e6db>\u001b[0m in \u001b[0;36mbest_group\u001b[0;34m()\u001b[0m\n\u001b[1;32m     11\u001b[0m                                            \u001b[0mpasses\u001b[0m\u001b[0;34m=\u001b[0m\u001b[0;36m5\u001b[0m\u001b[0;34m,\u001b[0m\u001b[0;34m\u001b[0m\u001b[0;34m\u001b[0m\u001b[0m\n\u001b[1;32m     12\u001b[0m                                            \u001b[0malpha\u001b[0m\u001b[0;34m=\u001b[0m\u001b[0;34m'auto'\u001b[0m\u001b[0;34m,\u001b[0m\u001b[0;34m\u001b[0m\u001b[0;34m\u001b[0m\u001b[0m\n\u001b[0;32m---> 13\u001b[0;31m                                            per_word_topics=True)\n\u001b[0m\u001b[1;32m     14\u001b[0m     \u001b[0mcoherence_model_lda\u001b[0m \u001b[0;34m=\u001b[0m \u001b[0mCoherenceModel\u001b[0m\u001b[0;34m(\u001b[0m\u001b[0mmodel\u001b[0m\u001b[0;34m=\u001b[0m\u001b[0mlda_model\u001b[0m\u001b[0;34m,\u001b[0m \u001b[0mtexts\u001b[0m\u001b[0;34m=\u001b[0m\u001b[0mdata_lemmatized\u001b[0m\u001b[0;34m,\u001b[0m \u001b[0mdictionary\u001b[0m\u001b[0;34m=\u001b[0m\u001b[0mid2word\u001b[0m\u001b[0;34m,\u001b[0m \u001b[0mcoherence\u001b[0m\u001b[0;34m=\u001b[0m\u001b[0;34m'c_v'\u001b[0m\u001b[0;34m)\u001b[0m\u001b[0;34m\u001b[0m\u001b[0;34m\u001b[0m\u001b[0m\n\u001b[1;32m     15\u001b[0m     \u001b[0mcoherence_lda\u001b[0m \u001b[0;34m=\u001b[0m \u001b[0mcoherence_model_lda\u001b[0m\u001b[0;34m.\u001b[0m\u001b[0mget_coherence\u001b[0m\u001b[0;34m(\u001b[0m\u001b[0;34m)\u001b[0m\u001b[0;34m\u001b[0m\u001b[0;34m\u001b[0m\u001b[0m\n",
            "\u001b[0;32m/usr/local/lib/python3.6/dist-packages/gensim/models/ldamodel.py\u001b[0m in \u001b[0;36m__init__\u001b[0;34m(self, corpus, num_topics, id2word, distributed, chunksize, passes, update_every, alpha, eta, decay, offset, eval_every, iterations, gamma_threshold, minimum_probability, random_state, ns_conf, minimum_phi_value, per_word_topics, callbacks, dtype)\u001b[0m\n\u001b[1;32m    513\u001b[0m         \u001b[0;32mif\u001b[0m \u001b[0mcorpus\u001b[0m \u001b[0;32mis\u001b[0m \u001b[0;32mnot\u001b[0m \u001b[0;32mNone\u001b[0m\u001b[0;34m:\u001b[0m\u001b[0;34m\u001b[0m\u001b[0;34m\u001b[0m\u001b[0m\n\u001b[1;32m    514\u001b[0m             \u001b[0muse_numpy\u001b[0m \u001b[0;34m=\u001b[0m \u001b[0mself\u001b[0m\u001b[0;34m.\u001b[0m\u001b[0mdispatcher\u001b[0m \u001b[0;32mis\u001b[0m \u001b[0;32mnot\u001b[0m \u001b[0;32mNone\u001b[0m\u001b[0;34m\u001b[0m\u001b[0;34m\u001b[0m\u001b[0m\n\u001b[0;32m--> 515\u001b[0;31m             \u001b[0mself\u001b[0m\u001b[0;34m.\u001b[0m\u001b[0mupdate\u001b[0m\u001b[0;34m(\u001b[0m\u001b[0mcorpus\u001b[0m\u001b[0;34m,\u001b[0m \u001b[0mchunks_as_numpy\u001b[0m\u001b[0;34m=\u001b[0m\u001b[0muse_numpy\u001b[0m\u001b[0;34m)\u001b[0m\u001b[0;34m\u001b[0m\u001b[0;34m\u001b[0m\u001b[0m\n\u001b[0m\u001b[1;32m    516\u001b[0m \u001b[0;34m\u001b[0m\u001b[0m\n\u001b[1;32m    517\u001b[0m     \u001b[0;32mdef\u001b[0m \u001b[0minit_dir_prior\u001b[0m\u001b[0;34m(\u001b[0m\u001b[0mself\u001b[0m\u001b[0;34m,\u001b[0m \u001b[0mprior\u001b[0m\u001b[0;34m,\u001b[0m \u001b[0mname\u001b[0m\u001b[0;34m)\u001b[0m\u001b[0;34m:\u001b[0m\u001b[0;34m\u001b[0m\u001b[0;34m\u001b[0m\u001b[0m\n",
            "\u001b[0;32m/usr/local/lib/python3.6/dist-packages/gensim/models/ldamodel.py\u001b[0m in \u001b[0;36mupdate\u001b[0;34m(self, corpus, chunksize, decay, offset, passes, update_every, eval_every, iterations, gamma_threshold, chunks_as_numpy)\u001b[0m\n\u001b[1;32m    961\u001b[0m                         \u001b[0mpass_\u001b[0m\u001b[0;34m,\u001b[0m \u001b[0mchunk_no\u001b[0m \u001b[0;34m*\u001b[0m \u001b[0mchunksize\u001b[0m \u001b[0;34m+\u001b[0m \u001b[0mlen\u001b[0m\u001b[0;34m(\u001b[0m\u001b[0mchunk\u001b[0m\u001b[0;34m)\u001b[0m\u001b[0;34m,\u001b[0m \u001b[0mlencorpus\u001b[0m\u001b[0;34m\u001b[0m\u001b[0;34m\u001b[0m\u001b[0m\n\u001b[1;32m    962\u001b[0m                     )\n\u001b[0;32m--> 963\u001b[0;31m                     \u001b[0mgammat\u001b[0m \u001b[0;34m=\u001b[0m \u001b[0mself\u001b[0m\u001b[0;34m.\u001b[0m\u001b[0mdo_estep\u001b[0m\u001b[0;34m(\u001b[0m\u001b[0mchunk\u001b[0m\u001b[0;34m,\u001b[0m \u001b[0mother\u001b[0m\u001b[0;34m)\u001b[0m\u001b[0;34m\u001b[0m\u001b[0;34m\u001b[0m\u001b[0m\n\u001b[0m\u001b[1;32m    964\u001b[0m \u001b[0;34m\u001b[0m\u001b[0m\n\u001b[1;32m    965\u001b[0m                     \u001b[0;32mif\u001b[0m \u001b[0mself\u001b[0m\u001b[0;34m.\u001b[0m\u001b[0moptimize_alpha\u001b[0m\u001b[0;34m:\u001b[0m\u001b[0;34m\u001b[0m\u001b[0;34m\u001b[0m\u001b[0m\n",
            "\u001b[0;32m/usr/local/lib/python3.6/dist-packages/gensim/models/ldamodel.py\u001b[0m in \u001b[0;36mdo_estep\u001b[0;34m(self, chunk, state)\u001b[0m\n\u001b[1;32m    723\u001b[0m         \u001b[0;32mif\u001b[0m \u001b[0mstate\u001b[0m \u001b[0;32mis\u001b[0m \u001b[0;32mNone\u001b[0m\u001b[0;34m:\u001b[0m\u001b[0;34m\u001b[0m\u001b[0;34m\u001b[0m\u001b[0m\n\u001b[1;32m    724\u001b[0m             \u001b[0mstate\u001b[0m \u001b[0;34m=\u001b[0m \u001b[0mself\u001b[0m\u001b[0;34m.\u001b[0m\u001b[0mstate\u001b[0m\u001b[0;34m\u001b[0m\u001b[0;34m\u001b[0m\u001b[0m\n\u001b[0;32m--> 725\u001b[0;31m         \u001b[0mgamma\u001b[0m\u001b[0;34m,\u001b[0m \u001b[0msstats\u001b[0m \u001b[0;34m=\u001b[0m \u001b[0mself\u001b[0m\u001b[0;34m.\u001b[0m\u001b[0minference\u001b[0m\u001b[0;34m(\u001b[0m\u001b[0mchunk\u001b[0m\u001b[0;34m,\u001b[0m \u001b[0mcollect_sstats\u001b[0m\u001b[0;34m=\u001b[0m\u001b[0;32mTrue\u001b[0m\u001b[0;34m)\u001b[0m\u001b[0;34m\u001b[0m\u001b[0;34m\u001b[0m\u001b[0m\n\u001b[0m\u001b[1;32m    726\u001b[0m         \u001b[0mstate\u001b[0m\u001b[0;34m.\u001b[0m\u001b[0msstats\u001b[0m \u001b[0;34m+=\u001b[0m \u001b[0msstats\u001b[0m\u001b[0;34m\u001b[0m\u001b[0;34m\u001b[0m\u001b[0m\n\u001b[1;32m    727\u001b[0m         \u001b[0mstate\u001b[0m\u001b[0;34m.\u001b[0m\u001b[0mnumdocs\u001b[0m \u001b[0;34m+=\u001b[0m \u001b[0mgamma\u001b[0m\u001b[0;34m.\u001b[0m\u001b[0mshape\u001b[0m\u001b[0;34m[\u001b[0m\u001b[0;36m0\u001b[0m\u001b[0;34m]\u001b[0m  \u001b[0;31m# avoids calling len(chunk) on a generator\u001b[0m\u001b[0;34m\u001b[0m\u001b[0;34m\u001b[0m\u001b[0m\n",
            "\u001b[0;32m/usr/local/lib/python3.6/dist-packages/gensim/models/ldamodel.py\u001b[0m in \u001b[0;36minference\u001b[0;34m(self, chunk, collect_sstats)\u001b[0m\n\u001b[1;32m    677\u001b[0m                 \u001b[0mElogthetad\u001b[0m \u001b[0;34m=\u001b[0m \u001b[0mdirichlet_expectation\u001b[0m\u001b[0;34m(\u001b[0m\u001b[0mgammad\u001b[0m\u001b[0;34m)\u001b[0m\u001b[0;34m\u001b[0m\u001b[0;34m\u001b[0m\u001b[0m\n\u001b[1;32m    678\u001b[0m                 \u001b[0mexpElogthetad\u001b[0m \u001b[0;34m=\u001b[0m \u001b[0mnp\u001b[0m\u001b[0;34m.\u001b[0m\u001b[0mexp\u001b[0m\u001b[0;34m(\u001b[0m\u001b[0mElogthetad\u001b[0m\u001b[0;34m)\u001b[0m\u001b[0;34m\u001b[0m\u001b[0;34m\u001b[0m\u001b[0m\n\u001b[0;32m--> 679\u001b[0;31m                 \u001b[0mphinorm\u001b[0m \u001b[0;34m=\u001b[0m \u001b[0mnp\u001b[0m\u001b[0;34m.\u001b[0m\u001b[0mdot\u001b[0m\u001b[0;34m(\u001b[0m\u001b[0mexpElogthetad\u001b[0m\u001b[0;34m,\u001b[0m \u001b[0mexpElogbetad\u001b[0m\u001b[0;34m)\u001b[0m \u001b[0;34m+\u001b[0m \u001b[0meps\u001b[0m\u001b[0;34m\u001b[0m\u001b[0;34m\u001b[0m\u001b[0m\n\u001b[0m\u001b[1;32m    680\u001b[0m                 \u001b[0;31m# If gamma hasn't changed much, we're done.\u001b[0m\u001b[0;34m\u001b[0m\u001b[0;34m\u001b[0m\u001b[0;34m\u001b[0m\u001b[0m\n\u001b[1;32m    681\u001b[0m                 \u001b[0mmeanchange\u001b[0m \u001b[0;34m=\u001b[0m \u001b[0mmean_absolute_difference\u001b[0m\u001b[0;34m(\u001b[0m\u001b[0mgammad\u001b[0m\u001b[0;34m,\u001b[0m \u001b[0mlastgamma\u001b[0m\u001b[0;34m)\u001b[0m\u001b[0;34m\u001b[0m\u001b[0;34m\u001b[0m\u001b[0m\n",
            "\u001b[0;32m<__array_function__ internals>\u001b[0m in \u001b[0;36mdot\u001b[0;34m(*args, **kwargs)\u001b[0m\n",
            "\u001b[0;31mKeyboardInterrupt\u001b[0m: "
          ]
        }
      ]
    },
    {
      "cell_type": "code",
      "metadata": {
        "id": "88PzpOpRdjfR"
      },
      "source": [
        "lda_model = gensim.models.ldamodel.LdaModel(corpus=corpus,\n",
        "                                           id2word=id2word,\n",
        "                                           num_topics=10, \n",
        "                                           random_state=100,\n",
        "                                           update_every=1,\n",
        "                                           chunksize=100,\n",
        "                                           passes=5,\n",
        "                                           alpha='auto',\n",
        "                                           per_word_topics=True)"
      ],
      "execution_count": 15,
      "outputs": []
    },
    {
      "cell_type": "code",
      "metadata": {
        "id": "iEOaMSTTakI7"
      },
      "source": [
        "topics = lda_model.show_topics(10, formatted=False)\n",
        "#print(topics[0][1][1])"
      ],
      "execution_count": 16,
      "outputs": []
    },
    {
      "cell_type": "code",
      "metadata": {
        "id": "DS7k2hAkqUnR"
      },
      "source": [
        "from collections import Counter"
      ],
      "execution_count": 17,
      "outputs": []
    },
    {
      "cell_type": "code",
      "metadata": {
        "id": "fKxfpWjKcCDS"
      },
      "source": [
        "text_in_topic = {}\n",
        "n=0\n",
        "for text in texts:\n",
        "  n+=1\n",
        "  count = Counter()\n",
        "  for word in text:\n",
        "    for topic in topics:\n",
        "      id = topic[0]\n",
        "      for i in range(len(topic[1])):\n",
        "        if topic[1][i][0] == word:\n",
        "          count[id]+= topic[1][i][1]\n",
        "  d = dict(count.most_common())\n",
        "  max = 0\n",
        "  i_cor = 0\n",
        "  for i in d:\n",
        "    if d.get(i) > max:\n",
        "      max = d.get(i)\n",
        "      i_cor = i\n",
        "    text_in_topic.update({n : i_cor})\n",
        "#print(text_in_topic[0])"
      ],
      "execution_count": 19,
      "outputs": []
    },
    {
      "cell_type": "code",
      "metadata": {
        "id": "Kf7-oRI6eNLz"
      },
      "source": [
        "groups = {}\n",
        "for i in range(0,10):\n",
        "  lis = []\n",
        "  for key, value in text_in_topic.items():\n",
        "    if value == i:\n",
        "      lis.append(key)\n",
        "    groups.update({i:lis})"
      ],
      "execution_count": 20,
      "outputs": []
    },
    {
      "cell_type": "code",
      "metadata": {
        "id": "h_Bl8u9iOfaa"
      },
      "source": [
        "def computeTF(t):\n",
        "  numOfWords = dict.fromkeys(t, 0)\n",
        "  for word in t:\n",
        "    numOfWords[word] += 1\n",
        "  tfDict = {}\n",
        "  textCount = len(t)\n",
        "  for word, count in numOfWords.items():\n",
        "    tfDict[word] = count / float(textCount)\n",
        "  return tfDict"
      ],
      "execution_count": 21,
      "outputs": []
    },
    {
      "cell_type": "code",
      "metadata": {
        "id": "vYpFSr8cQP5O",
        "outputId": "370e350b-1c55-447e-9686-59f6abaa1c38",
        "colab": {
          "base_uri": "https://localhost:8080/",
          "height": 55
        }
      },
      "source": [
        "tfs = {}\n",
        "for i in range (0,10):\n",
        "  num_text = groups[i]\n",
        "  for n in num_text:\n",
        "    need_text = texts[n-1]\n",
        "    get_tf = computeTF(need_text) #список словарей (для каждого текста словарь со значениями)\n",
        "    tfs.update({i: [n , get_tf]})\n",
        "print(tfs[0])"
      ],
      "execution_count": 22,
      "outputs": [
        {
          "output_type": "stream",
          "text": [
            "[11288, {'wing': 0.036885245901639344, 'win': 0.01639344262295082, 'nntp_poste': 0.004098360655737705, 'host': 0.004098360655737705, 'ca': 0.004098360655737705, 'reply': 0.004098360655737705, 'line': 0.004098360655737705, 'article': 0.00819672131147541, 'write': 0.012295081967213115, 'also': 0.012295081967213115, 'think': 0.00819672131147541, 'hard': 0.012295081967213115, 'time': 0.020491803278688523, 'sportswriter': 0.004098360655737705, 'predict': 0.004098360655737705, 'probably': 0.00819672131147541, 'best': 0.004098360655737705, 'ever': 0.004098360655737705, 'see': 0.004098360655737705, 'figure': 0.004098360655737705, 'take': 0.004098360655737705, 'pretty': 0.012295081967213115, 'good': 0.028688524590163935, 'team': 0.05327868852459016, 'contend': 0.00819672131147541, 'look': 0.00819672131147541, 'unlikely': 0.00819672131147541, 'truly': 0.004098360655737705, 'great': 0.012295081967213115, 'would': 0.012295081967213115, 'able': 0.004098360655737705, 'make': 0.020491803278688523, 'move': 0.004098360655737705, 'push': 0.012295081967213115, 'maybe': 0.004098360655737705, 'maintain': 0.004098360655737705, 'success': 0.00819672131147541, 'can': 0.004098360655737705, 'next': 0.00819672131147541, 'level': 0.00819672131147541, 'jacques': 0.004098360655737705, 'demer': 0.004098360655737705, 'bring': 0.00819672131147541, 'conference_final': 0.004098360655737705, 'twice': 0.004098360655737705, 'year': 0.00819672131147541, 'back': 0.004098360655737705, 'give': 0.012295081967213115, 'percent': 0.00819672131147541, 'little': 0.004098360655737705, 'talent': 0.020491803278688523, 'yzerman': 0.004098360655737705, 'drinking': 0.004098360655737705, 'problem': 0.004098360655737705, 'couple': 0.00819672131147541, 'decent': 0.004098360655737705, 'get': 0.012295081967213115, 'hot': 0.004098360655737705, 'name': 0.00819672131147541, 'player': 0.004098360655737705, 'early': 0.004098360655737705, 'even': 0.00819672131147541, 'deserve': 0.004098360655737705, 'star': 0.004098360655737705, 'game': 0.00819672131147541, 'much': 0.004098360655737705, 'less': 0.004098360655737705, 'actually': 0.004098360655737705, 'probert': 0.004098360655737705, 'play': 0.004098360655737705, 'clear': 0.004098360655737705, 'faced': 0.004098360655737705, 'simply': 0.004098360655737705, 'superior': 0.004098360655737705, 'could': 0.004098360655737705, 'final': 0.004098360655737705, 'still': 0.004098360655737705, 'weak': 0.004098360655737705, 'division': 0.004098360655737705, 'hockey': 0.00819672131147541, 'impressive': 0.004098360655737705, 'today': 0.004098360655737705, 'score': 0.004098360655737705, 'definite': 0.004098360655737705, 'positive': 0.004098360655737705, 'impact': 0.004098360655737705, 'especially': 0.004098360655737705, 'build': 0.004098360655737705, 'talented': 0.004098360655737705, 'present': 0.004098360655737705, 'possible': 0.004098360655737705, 'exception': 0.004098360655737705, 'pittsburgh_penguin': 0.004098360655737705, 'least': 0.004098360655737705, 'goal': 0.004098360655737705, 'scorer': 0.004098360655737705, 'defenseman': 0.004098360655737705, 'worth': 0.004098360655737705, 'playoff': 0.00819672131147541, 'experience': 0.004098360655737705, 'murray': 0.00819672131147541, 'fail': 0.00819672131147541, 'mention': 0.004098360655737705, 'definitely': 0.004098360655737705, 'wrong': 0.004098360655737705, 'find': 0.004098360655737705, 'strong': 0.004098360655737705, 'coach': 0.020491803278688523, 'motivate': 0.00819672131147541, 'go': 0.004098360655737705, 'full': 0.004098360655737705, 'minute': 0.004098360655737705, 'night': 0.004098360655737705, 'last': 0.00819672131147541, 'run': 0.00819672131147541, 'lose': 0.00819672131147541, 'reflection': 0.004098360655737705, 'original': 0.004098360655737705, 'post': 0.004098360655737705, 'outmatche': 0.004098360655737705, 'opponent': 0.00819672131147541, 'term': 0.004098360655737705, 'anyway': 0.004098360655737705, 'case': 0.00819672131147541, 'struggle': 0.004098360655737705, 'indicate': 0.00819672131147541, 'do': 0.004098360655737705, 'job': 0.004098360655737705, 'building': 0.004098360655737705, 'come': 0.004098360655737705, 'beat': 0.004098360655737705, 'easily': 0.004098360655737705, 'coaching': 0.004098360655737705, 'lack': 0.004098360655737705, 'fine': 0.004098360655737705, 'never': 0.004098360655737705, 'say': 0.00819672131147541, 'bad': 0.004098360655737705, 'merely': 0.004098360655737705, 'contender': 0.004098360655737705, 'honor': 0.004098360655737705, 'claim': 0.012295081967213115, 'stanley_cup': 0.004098360655737705, 'poor': 0.004098360655737705, 'intelligent': 0.004098360655737705, 'enough': 0.004098360655737705, 'hire': 0.004098360655737705, 'average': 0.004098360655737705, 'none': 0.004098360655737705, 'true': 0.004098360655737705, 'gregmeister': 0.004098360655737705}]\n"
          ],
          "name": "stdout"
        }
      ]
    },
    {
      "cell_type": "code",
      "metadata": {
        "id": "KeumRqLtfsT4"
      },
      "source": [
        "import math"
      ],
      "execution_count": 23,
      "outputs": []
    },
    {
      "cell_type": "code",
      "metadata": {
        "id": "h2IKWYO3fyIp"
      },
      "source": [
        "def computeIDF(documents):\n",
        "    N = len(documents[0])\n",
        "    idfDict = dict.fromkeys(documents[0], 0)\n",
        "    for document in documents: \n",
        "        for word, val in document.items():\n",
        "          if val > 0:\n",
        "            if word in idfDict:\n",
        "                idfDict[word] += 1\n",
        "            else:\n",
        "              idfDict.update({word:1})\n",
        "    for word, val in idfDict.items():\n",
        "        idfDict[word] = math.log(N / float(val))\n",
        "    return idfDict"
      ],
      "execution_count": 24,
      "outputs": []
    },
    {
      "cell_type": "code",
      "metadata": {
        "id": "p4H733Dl2DBg",
        "outputId": "4d69d1dd-00f0-49ba-d0ad-1379ecfaeb31",
        "colab": {
          "base_uri": "https://localhost:8080/",
          "height": 55
        }
      },
      "source": [
        "idfs = {}\n",
        "for i in range(0,10):\n",
        "  num_tex = groups[i]\n",
        "  for n in num_tex:\n",
        "    ls = []\n",
        "    new = []\n",
        "    need_tex = texts[n-1]\n",
        "    numOfWords_ = dict.fromkeys(need_tex, 0)\n",
        "    for word in need_tex:\n",
        "      numOfWords_[word] += 1\n",
        "    ls.append(numOfWords_)\n",
        "    #print(len(ls[0]))\n",
        "  com_idf = computeIDF(ls)\n",
        "  idfs.update({i: com_idf})\n",
        "print(idfs)"
      ],
      "execution_count": 25,
      "outputs": [
        {
          "output_type": "stream",
          "text": [
            "{0: {'wing': 5.017279836814924, 'win': 5.017279836814924, 'nntp_poste': 5.017279836814924, 'host': 5.017279836814924, 'ca': 5.017279836814924, 'reply': 5.017279836814924, 'line': 5.017279836814924, 'article': 5.017279836814924, 'write': 5.017279836814924, 'also': 5.017279836814924, 'think': 5.017279836814924, 'hard': 5.017279836814924, 'time': 5.017279836814924, 'sportswriter': 5.017279836814924, 'predict': 5.017279836814924, 'probably': 5.017279836814924, 'best': 5.017279836814924, 'ever': 5.017279836814924, 'see': 5.017279836814924, 'figure': 5.017279836814924, 'take': 5.017279836814924, 'pretty': 5.017279836814924, 'good': 5.017279836814924, 'team': 5.017279836814924, 'contend': 5.017279836814924, 'look': 5.017279836814924, 'unlikely': 5.017279836814924, 'truly': 5.017279836814924, 'great': 5.017279836814924, 'would': 5.017279836814924, 'able': 5.017279836814924, 'make': 5.017279836814924, 'move': 5.017279836814924, 'push': 5.017279836814924, 'maybe': 5.017279836814924, 'maintain': 5.017279836814924, 'success': 5.017279836814924, 'can': 5.017279836814924, 'next': 5.017279836814924, 'level': 5.017279836814924, 'jacques': 5.017279836814924, 'demer': 5.017279836814924, 'bring': 5.017279836814924, 'conference_final': 5.017279836814924, 'twice': 5.017279836814924, 'year': 5.017279836814924, 'back': 5.017279836814924, 'give': 5.017279836814924, 'percent': 5.017279836814924, 'little': 5.017279836814924, 'talent': 5.017279836814924, 'yzerman': 5.017279836814924, 'drinking': 5.017279836814924, 'problem': 5.017279836814924, 'couple': 5.017279836814924, 'decent': 5.017279836814924, 'get': 5.017279836814924, 'hot': 5.017279836814924, 'name': 5.017279836814924, 'player': 5.017279836814924, 'early': 5.017279836814924, 'even': 5.017279836814924, 'deserve': 5.017279836814924, 'star': 5.017279836814924, 'game': 5.017279836814924, 'much': 5.017279836814924, 'less': 5.017279836814924, 'actually': 5.017279836814924, 'probert': 5.017279836814924, 'play': 5.017279836814924, 'clear': 5.017279836814924, 'faced': 5.017279836814924, 'simply': 5.017279836814924, 'superior': 5.017279836814924, 'could': 5.017279836814924, 'final': 5.017279836814924, 'still': 5.017279836814924, 'weak': 5.017279836814924, 'division': 5.017279836814924, 'hockey': 5.017279836814924, 'impressive': 5.017279836814924, 'today': 5.017279836814924, 'score': 5.017279836814924, 'definite': 5.017279836814924, 'positive': 5.017279836814924, 'impact': 5.017279836814924, 'especially': 5.017279836814924, 'build': 5.017279836814924, 'talented': 5.017279836814924, 'present': 5.017279836814924, 'possible': 5.017279836814924, 'exception': 5.017279836814924, 'pittsburgh_penguin': 5.017279836814924, 'least': 5.017279836814924, 'goal': 5.017279836814924, 'scorer': 5.017279836814924, 'defenseman': 5.017279836814924, 'worth': 5.017279836814924, 'playoff': 5.017279836814924, 'experience': 5.017279836814924, 'murray': 5.017279836814924, 'fail': 5.017279836814924, 'mention': 5.017279836814924, 'definitely': 5.017279836814924, 'wrong': 5.017279836814924, 'find': 5.017279836814924, 'strong': 5.017279836814924, 'coach': 5.017279836814924, 'motivate': 5.017279836814924, 'go': 5.017279836814924, 'full': 5.017279836814924, 'minute': 5.017279836814924, 'night': 5.017279836814924, 'last': 5.017279836814924, 'run': 5.017279836814924, 'lose': 5.017279836814924, 'reflection': 5.017279836814924, 'original': 5.017279836814924, 'post': 5.017279836814924, 'outmatche': 5.017279836814924, 'opponent': 5.017279836814924, 'term': 5.017279836814924, 'anyway': 5.017279836814924, 'case': 5.017279836814924, 'struggle': 5.017279836814924, 'indicate': 5.017279836814924, 'do': 5.017279836814924, 'job': 5.017279836814924, 'building': 5.017279836814924, 'come': 5.017279836814924, 'beat': 5.017279836814924, 'easily': 5.017279836814924, 'coaching': 5.017279836814924, 'lack': 5.017279836814924, 'fine': 5.017279836814924, 'never': 5.017279836814924, 'say': 5.017279836814924, 'bad': 5.017279836814924, 'merely': 5.017279836814924, 'contender': 5.017279836814924, 'honor': 5.017279836814924, 'claim': 5.017279836814924, 'stanley_cup': 5.017279836814924, 'poor': 5.017279836814924, 'intelligent': 5.017279836814924, 'enough': 5.017279836814924, 'hire': 5.017279836814924, 'average': 5.017279836814924, 'none': 5.017279836814924, 'true': 5.017279836814924, 'gregmeister': 5.017279836814924}, 1: {'screen': 3.5263605246161616, 'medford': 3.5263605246161616, 'old': 3.5263605246161616, 'problem': 3.5263605246161616, 'blank': 3.5263605246161616, 'sometimes': 3.5263605246161616, 'minor': 3.5263605246161616, 'physical': 3.5263605246161616, 'jolt': 3.5263605246161616, 'insert': 3.5263605246161616, 'floppy': 3.5263605246161616, 'internal': 3.5263605246161616, 'drive': 3.5263605246161616, 'computer': 3.5263605246161616, 'leave': 3.5263605246161616, 'go': 3.5263605246161616, 'replace': 3.5263605246161616, 'wire': 3.5263605246161616, 'connect': 3.5263605246161616, 'logic': 3.5263605246161616, 'board': 3.5263605246161616, 'seem': 3.5263605246161616, 'first': 3.5263605246161616, 'jiggle': 3.5263605246161616, 'make': 3.5263605246161616, 'come': 3.5263605246161616, 'back': 3.5263605246161616, 'worked': 3.5263605246161616, 'blanking': 3.5263605246161616, 'return': 3.5263605246161616, 'nee': 3.5263605246161616, 'new': 3.5263605246161616, 'thank': 3.5263605246161616, 'advice': 3.5263605246161616}, 2: {'space': 6.182084906716632, 'faq': 6.182084906716632, 'controversial': 6.182084906716632, 'question': 6.182084906716632, 'keyword': 6.182084906716632, 'frequently_asked': 6.182084906716632, 'article': 6.182084906716632, 'controversy': 6.182084906716632, 'expire': 6.182084906716632, 'may': 6.182084906716632, 'gmt': 6.182084906716632, 'line': 6.182084906716632, 'supersede': 6.182084906716632, 'nntp_poste': 6.182084906716632, 'archive_name': 6.182084906716632, 'date': 6.182084906716632, 'issue': 6.182084906716632, 'periodically': 6.182084906716632, 'come': 6.182084906716632, 'much': 6.182084906716632, 'argument': 6.182084906716632, 'fact': 6.182084906716632, 'offer': 6.182084906716632, 'summary': 6.182084906716632, 'attempt': 6.182084906716632, 'represent': 6.182084906716632, 'position': 6.182084906716632, 'net': 6.182084906716632, 'community': 6.182084906716632, 'settle': 6.182084906716632, 'bring': 6.182084906716632, 'there': 6.182084906716632, 's': 6.182084906716632, 'truly': 6.182084906716632, 'new': 6.182084906716632, 'discuss': 6.182084906716632, 'can': 6.182084906716632, 'set': 6.182084906716632, 'public': 6.182084906716632, 'policy': 6.182084906716632, 'representative': 6.182084906716632, 'happen': 6.182084906716632, 'saturn': 6.182084906716632, 'plan': 6.182084906716632, 'widespread': 6.182084906716632, 'belief': 6.182084906716632, 'contrary': 6.182084906716632, 'blueprint': 6.182084906716632, 'lose': 6.182084906716632, 'keep': 6.182084906716632, 'microfilm': 6.182084906716632, 'problem': 6.182084906716632, 'create': 6.182084906716632, 'drawing': 6.182084906716632, 'find': 6.182084906716632, 'vendor': 6.182084906716632, 'supply': 6.182084906716632, 'mid': 6.182084906716632, 'vintage': 6.182084906716632, 'hardware': 6.182084906716632, 'guidance': 6.182084906716632, 'system': 6.182084906716632, 'component': 6.182084906716632, 'launch': 6.182084906716632, 'pad': 6.182084906716632, 'convert': 6.182084906716632, 'place': 6.182084906716632, 'time': 6.182084906716632, 'redesign': 6.182084906716632, 'accommodate': 6.182084906716632, 'available': 6.182084906716632, 'modify': 6.182084906716632, 'well': 6.182084906716632, 'started': 6.182084906716632, 'scratch': 6.182084906716632, 'clean': 6.182084906716632, 'sheet': 6.182084906716632, 'design': 6.182084906716632, 'datum': 6.182084906716632, 'mission': 6.182084906716632, 'immediately': 6.182084906716632, 'investigator': 6.182084906716632, 'associate': 6.182084906716632, 'allow': 6.182084906716632, 'exclusive': 6.182084906716632, 'access': 6.182084906716632, 'year': 6.182084906716632, 'obtain': 6.182084906716632, 'order': 6.182084906716632, 'give': 6.182084906716632, 'opportunity': 6.182084906716632, 'analyze': 6.182084906716632, 'publish': 6.182084906716632, 'result': 6.182084906716632, 'scoop': 6.182084906716632, 'people': 6.182084906716632, 'uninvolved': 6.182084906716632, 'however': 6.182084906716632, 'frequently': 6.182084906716632, 'release': 6.182084906716632, 'example': 6.182084906716632, 'non': 6.182084906716632, 'digital': 6.182084906716632, 'form': 6.182084906716632, 'photo': 6.182084906716632, 'early': 6.182084906716632, 'risk': 6.182084906716632, 'power': 6.182084906716632, 'source': 6.182084906716632, 'probe': 6.182084906716632, 'extensive': 6.182084906716632, 'discussion': 6.182084906716632, 'topic': 6.182084906716632, 'spark': 6.182084906716632, 'ulysse': 6.182084906716632, 'ground': 6.182084906716632, 'plutonium': 6.182084906716632, 'thermal': 6.182084906716632, 'dangerous': 6.182084906716632, 'numerous': 6.182084906716632, 'study': 6.182084906716632, 'claim': 6.182084906716632, 'even': 6.182084906716632, 'bad': 6.182084906716632, 'case': 6.182084906716632, 'scenario': 6.182084906716632, 'shuttle': 6.182084906716632, 'explosion': 6.182084906716632, 'extremely': 6.182084906716632, 'small': 6.182084906716632, 'interesting': 6.182084906716632, 'point': 6.182084906716632, 'loss': 6.182084906716632, 'snap': 6.182084906716632, 'rtg': 6.182084906716632, 'land': 6.182084906716632, 'fail': 6.182084906716632, 'reach': 6.182084906716632, 'orbit': 6.182084906716632, 'fuel': 6.182084906716632, 'recover': 6.182084906716632, 'month': 6.182084906716632, 'apollo': 6.182084906716632, 'module': 6.182084906716632, 'reentere': 6.182084906716632, 'atmosphere': 6.182084906716632, 'jettison': 6.182084906716632, 'fall': 6.182084906716632, 'intact': 6.182084906716632, 'foot': 6.182084906716632, 'deep': 6.182084906716632, 'resistant': 6.182084906716632, 'material': 6.182084906716632, 'expect': 6.182084906716632, 'prevent': 6.182084906716632, 'period': 6.182084906716632, 'equal': 6.182084906716632, 'half': 6.182084906716632, 'life': 6.182084906716632, 'make': 6.182084906716632, 'informed': 6.182084906716632, 'judgement': 6.182084906716632, 'reference': 6.182084906716632, 'wish': 6.182084906716632, 'good': 6.182084906716632, 'review': 6.182084906716632, 'technical': 6.182084906716632, 'exploration': 6.182084906716632, 'report': 6.182084906716632, 'page': 6.182084906716632, 'also': 6.182084906716632, 'event': 6.182084906716632, 'precede': 6.182084906716632, 'galileos': 6.182084906716632, 'showdown': 6.182084906716632, 'appear': 6.182084906716632, 'magazine': 6.182084906716632, 'pro': 6.182084906716632, 'organization': 6.182084906716632, 'society': 6.182084906716632, 'respectively': 6.182084906716632, 'develop': 6.182084906716632, 'frontier': 6.182084906716632, 'edit': 6.182084906716632, 'vol': 6.182084906716632, 'corporation': 6.182084906716632, 'safety': 6.182084906716632, 'status': 6.182084906716632, 'document': 6.182084906716632, 'number': 6.182084906716632, 'science': 6.182084906716632, 'application': 6.182084906716632, 'final': 6.182084906716632, 'environmental': 6.182084906716632, 'impact': 6.182084906716632, 'statement': 6.182084906716632, 'tier': 6.182084906716632, 'gpo': 6.182084906716632, 'probably': 6.182084906716632, 'energy': 6.182084906716632, 'tic': 6.182084906716632, 'government': 6.182084906716632, 'office': 6.182084906716632, 'chemical': 6.182084906716632, 'booster': 6.182084906716632, 'srb': 6.182084906716632, 'responsible': 6.182084906716632, 'significant': 6.182084906716632, 'amount': 6.182084906716632, 'damage': 6.182084906716632, 'indicate': 6.182084906716632, 'reality': 6.182084906716632, 'minute': 6.182084906716632, 'absolute': 6.182084906716632, 'term': 6.182084906716632, 'relative': 6.182084906716632, 'remainder': 6.182084906716632, 'item': 6.182084906716632, 'response': 6.182084906716632, 'author': 6.182084906716632, 'quote': 6.182084906716632, 'effect': 6.182084906716632, 'stratosphere': 6.182084906716632, 'involve': 6.182084906716632, 'independent': 6.182084906716632, 'theoretical': 6.182084906716632, 'group': 6.182084906716632, 'organize': 6.182084906716632, 'look': 6.182084906716632, 'follow': 6.182084906716632, 'estimate': 6.182084906716632, 'stratospheric': 6.182084906716632, 'chlorine': 6.182084906716632, 'industrial': 6.182084906716632, 'assume': 6.182084906716632, 'yearly': 6.182084906716632, 'thus': 6.182084906716632, 'would': 6.182084906716632, 'add': 6.182084906716632, 'less': 6.182084906716632, 'total': 6.182084906716632, 'ozone': 6.182084906716632, 'minimal': 6.182084906716632, 'global': 6.182084906716632, 'average': 6.182084906716632, 'decrease': 6.182084906716632, 'variability': 6.182084906716632, 'volcanic': 6.182084906716632, 'activity': 6.182084906716632, 'flare': 6.182084906716632, 'influence': 6.182084906716632, 'human': 6.182084906716632, 'product': 6.182084906716632, 'compute': 6.182084906716632, 'atmospheric': 6.182084906716632, 'model': 6.182084906716632, 'calculation': 6.182084906716632, 'globally': 6.182084906716632, 'negligible': 6.182084906716632, 'schedule': 6.182084906716632, 'need': 6.182084906716632, 'increase': 6.182084906716632, 'factor': 6.182084906716632, 'halocarbon': 6.182084906716632, 'present': 6.182084906716632, 'prather': 6.182084906716632, 'see': 6.182084906716632, 'rocket': 6.182084906716632, 'environment': 6.182084906716632, 'long': 6.182084906716632, 'live': 6.182084906716632, 'unprotected': 6.182084906716632, 'try': 6.182084906716632, 'hold': 6.182084906716632, 'breath': 6.182084906716632, 'exposure': 6.182084906716632, 'unlikely': 6.182084906716632, 'produce': 6.182084906716632, 'permanent': 6.182084906716632, 'injury': 6.182084906716632, 'likely': 6.182084906716632, 'lung': 6.182084906716632, 'scuba': 6.182084906716632, 'diver': 6.182084906716632, 'watch': 6.182084906716632, 'ascend': 6.182084906716632, 'will': 6.182084906716632, 'eardrum': 6.182084906716632, 'trouble': 6.182084906716632, 'eustachian': 6.182084906716632, 'tube': 6.182084906716632, 'badly': 6.182084906716632, 'plug': 6.182084906716632, 'theory': 6.182084906716632, 'predict': 6.182084906716632, 'animal': 6.182084906716632, 'experiment': 6.182084906716632, 'confirm': 6.182084906716632, 'otherwise': 6.182084906716632, 'vacuum': 6.182084906716632, 'cause': 6.182084906716632, 'immediate': 6.182084906716632, 'explode': 6.182084906716632, 'blood': 6.182084906716632, 'boil': 6.182084906716632, 'freeze': 6.182084906716632, 'instantly': 6.182084906716632, 'consciousness': 6.182084906716632, 'various': 6.182084906716632, 'minor': 6.182084906716632, 'sunburn': 6.182084906716632, 'possibly': 6.182084906716632, 'bend': 6.182084906716632, 'certainly': 6.182084906716632, 'mild': 6.182084906716632, 'reversible': 6.182084906716632, 'painless': 6.182084906716632, 'swell': 6.182084906716632, 'skin': 6.182084906716632, 'underlie': 6.182084906716632, 'tissue': 6.182084906716632, 'start': 6.182084906716632, 'second': 6.182084906716632, 'lack': 6.182084906716632, 'oxygen': 6.182084906716632, 'accumulate': 6.182084906716632, 'perhaps': 6.182084906716632, 'be': 6.182084906716632, 'die': 6.182084906716632, 'limit': 6.182084906716632, 'really': 6.182084906716632, 'know': 6.182084906716632, 'rapid': 6.182084906716632, 'decompression': 6.182084906716632, 'astronaut': 6.182084906716632, 'destroy': 6.182084906716632, 'burn': 6.182084906716632, 'external_tank': 6.182084906716632, 'apart': 6.182084906716632, 'force': 6.182084906716632, 'crew': 6.182084906716632, 'cabin': 6.182084906716632, 'sufficient': 6.182084906716632, 'kill': 6.182084906716632, 'never': 6.182084906716632, 'mind': 6.182084906716632, 'body': 6.182084906716632, 'accord': 6.182084906716632, 'team': 6.182084906716632, 'forensic': 6.182084906716632, 'hit': 6.182084906716632, 'water': 6.182084906716632, 'circa': 6.182084906716632, 'mph': 6.182084906716632, 'spend': 6.182084906716632, 'several': 6.182084906716632, 'week': 6.182084906716632, 'underwater': 6.182084906716632, 'remain': 6.182084906716632, 'examine': 6.182084906716632, 'send': 6.182084906716632, 'bury': 6.182084906716632, 'use': 6.182084906716632, 'low': 6.182084906716632, 'earth_orbit': 6.182084906716632, 'orbiter': 6.182084906716632, 'big': 6.182084906716632, 'heavy': 6.182084906716632, 'carry': 6.182084906716632, 'enough': 6.182084906716632, 'fill': 6.182084906716632, 'part': 6.182084906716632, 'cargo': 6.182084906716632, 'bay': 6.182084906716632, 'tank': 6.182084906716632, 'furthermore': 6.182084906716632, 'particularly': 6.182084906716632, 'sensible': 6.182084906716632, 'weight': 6.182084906716632, 'thing': 6.182084906716632, 'wing': 6.182084906716632, 'totally': 6.182084906716632, 'useless': 6.182084906716632, 'vicinity': 6.182084906716632, 'earth': 6.182084906716632, 'highly': 6.182084906716632, 'specialized': 6.182084906716632, 'travel': 6.182084906716632, 'surface': 6.182084906716632, 'take': 6.182084906716632, 'higher': 6.182084906716632, 'enormously': 6.182084906716632, 'costly': 6.182084906716632, 'wasteful': 6.182084906716632, 'approach': 6.182084906716632, 'subsystem': 6.182084906716632, 'build': 6.182084906716632, 'high': 6.182084906716632, 'spacecraft': 6.182084906716632, 'yet': 6.182084906716632, 'concise': 6.182084906716632, 'answer': 6.182084906716632, 'face': 6.182084906716632, 'rock': 6.182084906716632, 'remarkably': 6.182084906716632, 'humanoid': 6.182084906716632, 'different': 6.182084906716632, 'frame': 6.182084906716632, 'vike': 6.182084906716632, 'imagery': 6.182084906716632, 'facelike': 6.182084906716632, 'appearance': 6.182084906716632, 'one': 6.182084906716632, 'often': 6.182084906716632, 'degree': 6.182084906716632, 'western': 6.182084906716632, 'sun': 6.182084906716632, 'champion': 6.182084906716632, 'idea': 6.182084906716632, 'artificial': 6.182084906716632, 'intend': 6.182084906716632, 'resemble': 6.182084906716632, 'erect': 6.182084906716632, 'civilization': 6.182084906716632, 'analyst': 6.182084906716632, 'concede': 6.182084906716632, 'resemblance': 6.182084906716632, 'accidental': 6.182084906716632, 'viking': 6.182084906716632, 'image': 6.182084906716632, 'show': 6.182084906716632, 'crater': 6.182084906716632, 'lava': 6.182084906716632, 'flow': 6.182084906716632, 'kermit': 6.182084906716632, 'frog': 6.182084906716632, 'elsewhere': 6.182084906716632, 'exist': 6.182084906716632, 'sorry': 6.182084906716632, 'address': 6.182084906716632, 'resolution': 6.182084906716632, 'camera': 6.182084906716632, 'formation': 6.182084906716632, 'hopefully': 6.182084906716632, 'meantime': 6.182084906716632, 'speculation': 6.182084906716632, 'best': 6.182084906716632, 'altnet': 6.182084906716632, 'visitor': 6.182084906716632, 'dipeitro': 6.182084906716632, 'molenaar': 6.182084906716632, 'unusual': 6.182084906716632, 'feature': 6.182084906716632, 'mail': 6.182084906716632, 'conference': 6.182084906716632, 'hoagland': 6.182084906716632, 'investigate': 6.182084906716632, 'monument': 6.182084906716632, 'edge': 6.182084906716632, 'forever': 6.182084906716632, 'evidence': 6.182084906716632, 'analysis': 6.182084906716632, 'applied': 6.182084906716632, 'optic': 6.182084906716632, 'extract': 6.182084906716632, 'three_dimensional': 6.182084906716632, 'search': 6.182084906716632, 'object': 6.182084906716632, 'fractal': 6.182084906716632, 'guess': 6.182084906716632, 'oleary': 6.182084906716632, 'possible': 6.182084906716632, 'intelligent': 6.182084906716632, 'origin': 6.182084906716632, 'light': 6.182084906716632, 'carlottos': 6.182084906716632, 'angle': 6.182084906716632, 'consistent': 6.182084906716632, 'observed': 6.182084906716632, 'next': 6.182084906716632, 'activist': 6.182084906716632, 'interest': 6.182084906716632, 'research': 6.182084906716632, 'publication': 6.182084906716632}, 3: {'need': 4.77912349311153, 'nntp_poste': 4.77912349311153, 'host': 4.77912349311153, 'brew': 4.77912349311153, 'line': 4.77912349311153, 'write': 4.77912349311153, 'have': 4.77912349311153, 'recently': 4.77912349311153, 'toy': 4.77912349311153, 'idea': 4.77912349311153, 'purchase': 4.77912349311153, 'old': 4.77912349311153, 'go': 4.77912349311153, 'rate': 4.77912349311153, 'seem': 4.77912349311153, 'car': 4.77912349311153, 'anywhere': 4.77912349311153, 'question': 4.77912349311153, 'expect': 4.77912349311153, 'price': 4.77912349311153, 'extensive': 4.77912349311153, 'body': 4.77912349311153, 'work': 4.77912349311153, 'do': 4.77912349311153, 'engine': 4.77912349311153, 'transmission': 4.77912349311153, 'likewise': 4.77912349311153, 'virtually': 4.77912349311153, 'replace': 4.77912349311153, 'name': 4.77912349311153, 'address': 4.77912349311153, 'mail': 4.77912349311153, 'order': 4.77912349311153, 'part': 4.77912349311153, 'supplier': 4.77912349311153, 'be': 4.77912349311153, 'completely': 4.77912349311153, 'new': 4.77912349311153, 'area': 4.77912349311153, 'restore': 4.77912349311153, 'actually': 4.77912349311153, 'would': 4.77912349311153, 'professionally': 4.77912349311153, 'sould': 4.77912349311153, 'cost': 4.77912349311153, 'upgrade': 4.77912349311153, 'rust': 4.77912349311153, 'free': 4.77912349311153, 'mechanically': 4.77912349311153, 'sound': 4.77912349311153, 'automobile': 4.77912349311153, 'thank': 4.77912349311153, 'advance': 4.77912349311153, 'andre': 4.77912349311153, 'true': 4.77912349311153, 'enthusiast': 4.77912349311153, 'able': 4.77912349311153, 'give': 4.77912349311153, 'well': 4.77912349311153, 'answer': 4.77912349311153, 'ill': 4.77912349311153, 'dump': 4.77912349311153, 'impression': 4.77912349311153, 'want': 4.77912349311153, 'year': 4.77912349311153, 'come': 4.77912349311153, 'close': 4.77912349311153, 'end': 4.77912349311153, 'buying': 4.77912349311153, 'fiero': 4.77912349311153, 'instead': 4.77912349311153, 'big': 4.77912349311153, 'mistake': 4.77912349311153, 'life': 4.77912349311153, 'anyway': 4.77912349311153, 'get': 4.77912349311153, 'nice': 4.77912349311153, 'also': 4.77912349311153, 'set': 4.77912349311153, 'range': 4.77912349311153, 'take': 4.77912349311153, 'pile': 4.77912349311153, 'common': 4.77912349311153, 'total': 4.77912349311153, 'failure': 4.77912349311153, 'frame': 4.77912349311153, 'passenger_compartment': 4.77912349311153, 'look': 4.77912349311153, 'chassis': 4.77912349311153, 'weld': 4.77912349311153, 'together': 4.77912349311153, 'oh_yeah': 4.77912349311153, 'talk': 4.77912349311153, 'must': 4.77912349311153, 'banger': 4.77912349311153, 'could': 4.77912349311153, 'find': 4.77912349311153, 'mucho': 4.77912349311153, 'buck': 4.77912349311153, 'pretty': 4.77912349311153, 'easy': 4.77912349311153, 'even': 4.77912349311153, 'locate': 4.77912349311153, 'crude': 4.77912349311153, 'catalog': 4.77912349311153, 'machine': 4.77912349311153, 'simple': 4.77912349311153, 'windshild': 4.77912349311153, 'washer': 4.77912349311153, 'pump': 4.77912349311153, 'sake': 4.77912349311153, 'fix': 4.77912349311153, 'good': 4.77912349311153, 'bug': 4.77912349311153, 'mid': 4.77912349311153, 'may': 4.77912349311153, 'spend': 4.77912349311153, 'labor': 4.77912349311153, 'mechanical': 4.77912349311153}, 4: {'development': 5.170483995038151, 'distribution_usa': 5.170483995038151, 'line': 5.170483995038151, 'article': 5.170483995038151, 'write': 5.170483995038151, 'guess': 5.170483995038151, 'say': 5.170483995038151, 'get': 5.170483995038151, 'boring': 5.170483995038151, 'look': 5.170483995038151, 'old': 5.170483995038151, 'come': 5.170483995038151, 'window': 5.170483995038151, 'wonder': 5.170483995038151, 'body': 5.170483995038151, 'beautiful': 5.170483995038151, 'bmp': 5.170483995038151, 'file': 5.170483995038151, 'share': 5.170483995038151, 'maybe': 5.170483995038151, 'tell': 5.170483995038151, 'scenery': 5.170483995038151, 'animal': 5.170483995038151, 'use': 5.170483995038151, 'unfortunately': 5.170483995038151, 'delete': 5.170483995038151, 'anyway': 5.170483995038151, 'could': 5.170483995038151, 'give': 5.170483995038151, 'help': 5.170483995038151, 'please': 5.170483995038151, 'response': 5.170483995038151, 'different': 5.170483995038151, 'wallpaper': 5.170483995038151, 'here': 5.170483995038151, 'think': 5.170483995038151, 'original': 5.170483995038151, 'gif': 5.170483995038151, 'call': 5.170483995038151, 'artist': 5.170483995038151, 'name': 5.170483995038151, 'logo': 5.170483995038151, 'low': 5.170483995038151, 'right': 5.170483995038151, 'corner': 5.170483995038151, 'need': 5.170483995038151, 'vga': 5.170483995038151, 'sized': 5.170483995038151, 'color': 5.170483995038151, 'screen': 5.170483995038151, 'directory': 5.170483995038151, 'tile': 5.170483995038151, 'hope': 5.170483995038151, 'begin': 5.170483995038151, 'cut': 5.170483995038151, 'ntreal': 5.170483995038151, 'uiu': 5.170483995038151, 'ejd': 5.170483995038151, 'fumu': 5.170483995038151, 'emu': 5.170483995038151, 'pjlk': 5.170483995038151, 'rlbxnlk': 5.170483995038151, 'fiyk': 5.170483995038151, 'fbhj': 5.170483995038151, 'hmk': 5.170483995038151, 'em_um': 5.170483995038151, 'vlk': 5.170483995038151, 'uariw': 5.170483995038151, 'be': 5.170483995038151, 'btz': 5.170483995038151, 'dg': 5.170483995038151, 'rlkflk': 5.170483995038151, 'bzqjo': 5.170483995038151, 'bzs': 5.170483995038151, 'bzr': 5.170483995038151, 'fjl': 5.170483995038151, 'ql_ql': 5.170483995038151, 'bxo': 5.170483995038151, 'vfei': 5.170483995038151, 'nl': 5.170483995038151, 'dvvc': 5.170483995038151, 'rl': 5.170483995038151, 'vum': 5.170483995038151, 'gdv': 5.170483995038151, 'rlk': 5.170483995038151, 'mi_ei': 5.170483995038151, 'ic': 5.170483995038151, 'hvva': 5.170483995038151, 'vlbzrl': 5.170483995038151, 'mhfdr': 5.170483995038151, 'nab': 5.170483995038151, 'di_di': 5.170483995038151, 'vvmj': 5.170483995038151, 'erlk': 5.170483995038151, 'bhmh': 5.170483995038151, 'pj': 5.170483995038151, 'phw': 5.170483995038151, 'qttu': 5.170483995038151, 'otv': 5.170483995038151, 'nlbzrl': 5.170483995038151, 'lkyp': 5.170483995038151, 'kyubv': 5.170483995038151, 'rjbh': 5.170483995038151, 'mva': 5.170483995038151, 'mea': 5.170483995038151, 'cmbo': 5.170483995038151, 'pk': 5.170483995038151, 'dv': 5.170483995038151, 'hv': 5.170483995038151, 'mvc': 5.170483995038151, 'ouj': 5.170483995038151, 'yrog': 5.170483995038151, 'bhmj': 5.170483995038151, 'vmj': 5.170483995038151, 'vig': 5.170483995038151, 'eykey': 5.170483995038151, 'bhu': 5.170483995038151, 'riujv': 5.170483995038151, 'obb': 5.170483995038151, 'ql': 5.170483995038151, 'lsyrm': 5.170483995038151, 'oad': 5.170483995038151, 'odwvpgi': 5.170483995038151, 'iynum': 5.170483995038151, 'rlb_v': 5.170483995038151, 'mob': 5.170483995038151, 'sl': 5.170483995038151, 'gyu': 5.170483995038151, 'ok': 5.170483995038151, 'prq': 5.170483995038151, 'mu': 5.170483995038151, 'ymu': 5.170483995038151, 'ynum': 5.170483995038151, 'qw': 5.170483995038151, 'wte': 5.170483995038151, 'bhj': 5.170483995038151, 'mk': 5.170483995038151, 'gyq': 5.170483995038151, 'rip': 5.170483995038151, 'bzrl': 5.170483995038151, 'pa_pa': 5.170483995038151, 'nlbxo': 5.170483995038151, 'ax': 5.170483995038151, 'bf': 5.170483995038151, 'tg': 5.170483995038151, 'eiljeu': 5.170483995038151, 'wax': 5.170483995038151, 'nlbzrlo': 5.170483995038151, 'hnlk': 5.170483995038151, 'vow': 5.170483995038151, 'tep': 5.170483995038151, 'mudhq': 5.170483995038151, 'tdtu': 5.170483995038151, 'xgg': 5.170483995038151, 'oo': 5.170483995038151, 'wo': 5.170483995038151, 'fjlk': 5.170483995038151, 'wqody': 5.170483995038151, 'gqubv': 5.170483995038151, 'fpav': 5.170483995038151, 'mmur': 5.170483995038151, 'rqp': 5.170483995038151, 'mmvgd': 5.170483995038151, 'qpt': 5.170483995038151, 'ox': 5.170483995038151, 'lq': 5.170483995038151, 'pe': 5.170483995038151, 'sy': 5.170483995038151, 'rmm': 5.170483995038151, 'mect': 5.170483995038151, 'ghpgyubvi': 5.170483995038151, 'op': 5.170483995038151, 'okzum': 5.170483995038151, 'uokz': 5.170483995038151, 'cx_ocx': 5.170483995038151, 'vpg': 5.170483995038151}, 5: {'part': 6.714170529909472, 'reply': 6.714170529909472, 'tpy': 6.714170529909472, 'line': 6.714170529909472, 'cut': 6.714170529909472, 'hicnet_medical': 6.714170529909472, 'source': 6.714170529909472, 'number': 6.714170529909472, 'report': 6.714170529909472, 'case': 6.714170529909472, 'increase': 6.714170529909472, 'decline': 6.714170529909472, 'steadily': 6.714170529909472, 'comparison': 6.714170529909472, 'continue': 6.714170529909472, 'overall': 6.714170529909472, 'decrease': 6.714170529909472, 'trend': 6.714170529909472, 'summarize': 6.714170529909472, 'analysis': 6.714170529909472, 'characterize': 6.714170529909472, 'occurrence': 6.714170529909472, 'disease': 6.714170529909472, 'compare': 6.714170529909472, 'female': 6.714170529909472, 'male': 6.714170529909472, 'respectively': 6.714170529909472, 'table': 6.714170529909472, 'similar': 6.714170529909472, 'occur': 6.714170529909472, 'black': 6.714170529909472, 'white': 6.714170529909472, 'hispanic': 6.714170529909472, 'however': 6.714170529909472, 'race': 6.714170529909472, 'specify': 6.714170529909472, 'constitute': 6.714170529909472, 'large': 6.714170529909472, 'proportional': 6.714170529909472, 'age': 6.714170529909472, 'group': 6.714170529909472, 'person': 6.714170529909472, 'year': 6.714170529909472, 'great': 6.714170529909472, 'equal': 6.714170529909472, 'account': 6.714170529909472, 'gonorrhea': 6.714170529909472, 'high': 6.714170529909472, 'specific': 6.714170529909472, 'rate': 6.714170529909472, 'county': 6.714170529909472, 'population': 6.714170529909472, 'elsewhere': 6.714170529909472, 'state': 6.714170529909472, 'half': 6.714170529909472, 'census': 6.714170529909472, 'tract': 6.714170529909472, 'represent': 6.714170529909472, 'neighborhood': 6.714170529909472, 'consider': 6.714170529909472, 'sexually': 6.714170529909472, 'transmit': 6.714170529909472, 'acquire': 6.714170529909472, 'drug': 6.714170529909472, 'activity': 6.714170529909472, 'diagnose': 6.714170529909472, 'man': 6.714170529909472, 'public': 6.714170529909472, 'clinic': 6.714170529909472, 'visit': 6.714170529909472, 'concurrently': 6.714170529909472, 'woman': 6.714170529909472, 'self': 6.714170529909472, 'identify': 6.714170529909472, 'heterosexual': 6.714170529909472, 'comprise': 6.714170529909472, 'homosexual_man': 6.714170529909472, 'remain': 6.714170529909472, 'low': 6.714170529909472, 'select': 6.714170529909472, 'laboratory': 6.714170529909472, 'area': 6.714170529909472, 'nonprofit': 6.714170529909472, 'family': 6.714170529909472, 'plan': 6.714170529909472, 'commercial': 6.714170529909472, 'contacted': 6.714170529909472, 'determine': 6.714170529909472, 'culture': 6.714170529909472, 'positivity': 6.714170529909472, 'contact': 6.714170529909472, 'virtually': 6.714170529909472, 'unchanged': 6.714170529909472, 'fourth': 6.714170529909472, 'planning': 6.714170529909472, 'figure': 6.714170529909472, 'time': 6.714170529909472, 'health': 6.714170529909472, 'hospital': 6.714170529909472, 'surveillance': 6.714170529909472, 'information': 6.714170529909472, 'system': 6.714170529909472, 'br': 6.714170529909472, 'editorial': 6.714170529909472, 'note': 6.714170529909472, 'may': 6.714170529909472, 'complete': 6.714170529909472, 'reporting': 6.714170529909472, 'stimulate': 6.714170529909472, 'visitation': 6.714170529909472, 'staff': 6.714170529909472, 'confirm': 6.714170529909472, 'suggest': 6.714170529909472, 'real': 6.714170529909472, 'rather': 6.714170529909472, 'stable': 6.714170529909472, 'serve': 6.714170529909472, 'network': 6.714170529909472, 'statewide': 6.714170529909472, 'indicate': 6.714170529909472, 'uniformly': 6.714170529909472, 'affect': 6.714170529909472, 'segment': 6.714170529909472, 'possible': 6.714170529909472, 'explanation': 6.714170529909472, 'gang': 6.714170529909472, 'relate': 6.714170529909472, 'implicate': 6.714170529909472, 'recent': 6.714170529909472, 'outbreak': 6.714170529909472, 'resistant': 6.714170529909472, 'colorado_spring': 6.714170529909472, 'morbidity': 6.714170529909472, 'hypothesis': 6.714170529909472, 'require': 6.714170529909472, 'assessment': 6.714170529909472, 'examine': 6.714170529909472, 'role': 6.714170529909472, 'previously': 6.714170529909472, 'factor': 6.714170529909472, 'contribute': 6.714170529909472, 'national': 6.714170529909472, 'program': 6.714170529909472, 'collect': 6.714170529909472, 'regard': 6.714170529909472, 'exchange': 6.714170529909472, 'sex': 6.714170529909472, 'money': 6.714170529909472, 'substantially': 6.714170529909472, 'exceed': 6.714170529909472, 'objective': 6.714170529909472, 'likely': 6.714170529909472, 'risk': 6.714170529909472, 'marker': 6.714170529909472, 'stds': 6.714170529909472, 'useful': 6.714170529909472, 'target': 6.714170529909472, 'prevention': 6.714170529909472, 'effort': 6.714170529909472, 'moreover': 6.714170529909472, 'variation': 6.714170529909472, 'std': 6.714170529909472, 'reflect': 6.714170529909472, 'difference': 6.714170529909472, 'socioeconomic': 6.714170529909472, 'status': 6.714170529909472, 'access': 6.714170529909472, 'medical': 6.714170529909472, 'care': 6.714170529909472, 'behavior': 6.714170529909472, 'response': 6.714170529909472, 'intervention': 6.714170529909472, 'initiate': 6.714170529909472, 'include': 6.714170529909472, 'partner': 6.714170529909472, 'old': 6.714170529909472, 'implement': 6.714170529909472, 'medium': 6.714170529909472, 'campaign': 6.714170529909472, 'service': 6.714170529909472, 'radio': 6.714170529909472, 'announcement': 6.714170529909472, 'sign': 6.714170529909472, 'city': 6.714170529909472, 'bus': 6.714170529909472, 'newspaper': 6.714170529909472, 'advertisement': 6.714170529909472, 'poster': 6.714170529909472, 'school': 6.714170529909472, 'promote': 6.714170529909472, 'awareness': 6.714170529909472, 'primarily': 6.714170529909472, 'develop': 6.714170529909472, 'team': 6.714170529909472, 'peer': 6.714170529909472, 'educator': 6.714170529909472, 'perform': 6.714170529909472, 'educational': 6.714170529909472, 'outreach': 6.714170529909472, 'assistance': 6.714170529909472, 'member': 6.714170529909472, 'input': 6.714170529909472, 'community': 6.714170529909472, 'leader': 6.714170529909472, 'provider': 6.714170529909472, 'notifiable': 6.714170529909472, 'united_state': 6.714170529909472, 'week': 6.714170529909472, 'end': 6.714170529909472, 'penicillinase': 6.714170529909472, 'produce': 6.714170529909472, 'syphilis': 6.714170529909472, 'cocaine': 6.714170529909472, 'prostitution': 6.714170529909472, 'notification': 6.714170529909472, 'control': 6.714170529909472, 'diverge': 6.714170529909472, 'healthy': 6.714170529909472, 'people': 6.714170529909472, 'full': 6.714170529909472, 'commentary': 6.714170529909472, 'dhhs_publication': 6.714170529909472, 'phs': 6.714170529909472, 'effectiveness': 6.714170529909472, 'belt': 6.714170529909472, 'restraint': 6.714170529909472, 'child': 6.714170529909472, 'less': 6.714170529909472, 'crash': 6.714170529909472, 'lead': 6.714170529909472, 'cause': 6.714170529909472, 'death': 6.714170529909472, 'young': 6.714170529909472, 'adult': 6.714170529909472, 'potential': 6.714170529909472, 'life': 6.714170529909472, 'lose': 6.714170529909472, 'annually': 6.714170529909472, 'safety': 6.714170529909472, 'seat': 6.714170529909472, 'safety_belt': 6.714170529909472, 'reduce': 6.714170529909472, 'loss': 6.714170529909472, 'pass': 6.714170529909472, 'legislation': 6.714170529909472, 'law': 6.714170529909472, 'injury': 6.714170529909472, 'estimate': 6.714170529909472, 'related': 6.714170529909472, 'major': 6.714170529909472, 'disability': 6.714170529909472, 'occupant': 6.714170529909472, 'inversely': 6.714170529909472, 'usage': 6.714170529909472, 'aged': 6.714170529909472, 'addition': 6.714170529909472, 'parent': 6.714170529909472, 'safety_belts': 6.714170529909472, 'consistent': 6.714170529909472, 'household': 6.714170529909472, 'analyze': 6.714170529909472, 'datum': 6.714170529909472, 'obtain': 6.714170529909472, 'behavioral': 6.714170529909472, 'study': 6.714170529909472, 'available': 6.714170529909472, 'respondent': 6.714170529909472, 'participate': 6.714170529909472, 'brfss': 6.714170529909472, 'base': 6.714170529909472, 'random': 6.714170529909472, 'digit': 6.714170529909472, 'dial': 6.714170529909472, 'telephone': 6.714170529909472, 'survey': 6.714170529909472, 'administer': 6.714170529909472, 'standard': 6.714170529909472, 'module': 6.714170529909472, 'ask': 6.714170529909472, 'frequency': 6.714170529909472, 'category': 6.714170529909472, 'always': 6.714170529909472, 'buckle': 6.714170529909472, 'almost': 6.714170529909472, 'sometimes': 6.714170529909472, 'rarely': 6.714170529909472, 'never': 6.714170529909472, 'weight': 6.714170529909472, 'provide': 6.714170529909472, 'representative': 6.714170529909472, 'use': 6.714170529909472, 'calculate': 6.714170529909472, 'point': 6.714170529909472, 'confidence': 6.714170529909472, 'interval': 6.714170529909472, 'statistically': 6.714170529909472, 'significant': 6.714170529909472, 'define': 6.714170529909472, 'value': 6.714170529909472, 'type': 6.714170529909472, 'secondary': 6.714170529909472, 'enforcement': 6.714170529909472, 'mandatory': 6.714170529909472, 'vehicle': 6.714170529909472, 'stop': 6.714170529909472, 'traffic': 6.714170529909472, 'violation': 6.714170529909472, 'citation': 6.714170529909472, 'nonuse': 6.714170529909472, 'could': 6.714170529909472, 'issue': 6.714170529909472, 'primary': 6.714170529909472, 'stopped': 6.714170529909472, 'alone': 6.714170529909472, 'passenger': 6.714170529909472, 'protection': 6.714170529909472, 'size': 6.714170529909472, 'criterion': 6.714170529909472, 'subgroupe': 6.714170529909472, 'reportedly': 6.714170529909472, 'consistently': 6.714170529909472, 'restrain': 6.714170529909472, 'automobile': 6.714170529909472, 'travel': 6.714170529909472, 'significantly': 6.714170529909472, 'higher': 6.714170529909472, 'square': 6.714170529909472, 'test': 6.714170529909472, 'regardless': 6.714170529909472, 'range': 6.714170529909472, 'sharply': 6.714170529909472, 'user': 6.714170529909472, 'adult_safety': 6.714170529909472, 'overlap': 6.714170529909472, 'generally': 6.714170529909472, 'attainment': 6.714170529909472, 'associate': 6.714170529909472, 'also': 6.714170529909472, 'finding': 6.714170529909472, 'other': 6.714170529909472, 'employ': 6.714170529909472, 'nonbelte': 6.714170529909472, 'exhibit': 6.714170529909472, 'take': 6.714170529909472, 'accordingly': 6.714170529909472, 'often': 6.714170529909472, 'offer': 6.714170529909472, 'facility': 6.714170529909472, 'income': 6.714170529909472, 'federal': 6.714170529909472, 'head': 6.714170529909472, 'start': 6.714170529909472, 'direct': 6.714170529909472, 'emphasize': 6.714170529909472, 'must': 6.714170529909472, 'intensify': 6.714170529909472, 'protect': 6.714170529909472, 'become': 6.714170529909472, 'especially': 6.714170529909472, 'wear': 6.714170529909472, 'encourage': 6.714170529909472, 'approve': 6.714170529909472, 'finally': 6.714170529909472, 'likelihood': 6.714170529909472, 'teenager': 6.714170529909472, 'fatal': 6.714170529909472, 'reference': 6.714170529909472, 'partyka': 6.714170529909472, 'paper': 6.714170529909472, 'progress': 6.714170529909472, 'local': 6.714170529909472, 'education': 6.714170529909472, 'distribution': 6.714170529909472, 'chapel_hill': 6.714170529909472, 'wagenaar': 6.714170529909472, 'accid': 6.714170529909472, 'anal': 6.714170529909472, 'shah': 6.714170529909472, 'version': 6.714170529909472, 'software': 6.714170529909472, 'lund': 6.714170529909472, 'driver': 6.714170529909472, 'geographic': 6.714170529909472, 'demographic': 6.714170529909472, 'device': 6.714170529909472, 'seatbelt': 6.714170529909472, 'non': 6.714170529909472, 'research': 6.714170529909472, 'publication': 6.714170529909472, 'summary': 6.714170529909472, 'publish': 6.714170529909472, 'separate': 6.714170529909472, 'cover': 6.714170529909472, 'focus': 6.714170529909472, 'broad': 6.714170529909472, 'condition': 6.714170529909472, 'subscriber': 6.714170529909472, 'receive': 6.714170529909472, 'well': 6.714170529909472, 'mmwr': 6.714170529909472, 'recommendation': 6.714170529909472, 'subscription': 6.714170529909472, 'birth': 6.714170529909472, 'defect': 6.714170529909472, 'prevalence': 6.714170529909472, 'problem': 6.714170529909472, 'monitor': 6.714170529909472, 'period': 6.714170529909472, 'birth_defect': 6.714170529909472, 'metropolitan': 6.714170529909472, 'jurisdiction': 6.714170529909472, 'description': 6.714170529909472, 'collection': 6.714170529909472, 'method': 6.714170529909472, 'diagnostic': 6.714170529909472, 'data': 6.714170529909472, 'adjust': 6.714170529909472, 'maternal': 6.714170529909472, 'poisson': 6.714170529909472, 'regression': 6.714170529909472, 'result': 6.714170529909472, 'regional': 6.714170529909472, 'aortic': 6.714170529909472, 'stenosis': 6.714170529909472, 'lordosis': 6.714170529909472, 'attributable': 6.714170529909472, 'general': 6.714170529909472, 'variability': 6.714170529909472, 'arm': 6.714170529909472, 'hand': 6.714170529909472, 'syndrome': 6.714170529909472, 'probably': 6.714170529909472, 'ascertainment': 6.714170529909472, 'relatively': 6.714170529909472, 'easy': 6.714170529909472, 'interpretation': 6.714170529909472, 'prenatal': 6.714170529909472, 'diagnosis': 6.714170529909472, 'pregnancy': 6.714170529909472, 'termination': 6.714170529909472, 'reason': 6.714170529909472, 'reduction': 6.714170529909472, 'unknown': 6.714170529909472, 'environmental': 6.714170529909472, 'exposure': 6.714170529909472, 'heterogeneity': 6.714170529909472, 'gene_pool': 6.714170529909472, 'action': 6.714170529909472, 'similarity': 6.714170529909472, 'basis': 6.714170529909472, 'several': 6.714170529909472, 'collaborative': 6.714170529909472, 'particular': 6.714170529909472, 'attention': 6.714170529909472, 'impact': 6.714170529909472, 'author': 6.714170529909472, 'division': 6.714170529909472, 'developmental': 6.714170529909472, 'emergence': 6.714170529909472, 'spread': 6.714170529909472, 'new': 6.714170529909472, 'virus': 6.714170529909472, 'variant': 6.714170529909472, 'conduct': 6.714170529909472, 'weekly': 6.714170529909472, 'vital': 6.714170529909472, 'statistic': 6.714170529909472, 'office': 6.714170529909472, 'index': 6.714170529909472, 'influenza': 6.714170529909472, 'mortality': 6.714170529909472, 'collaborate': 6.714170529909472, 'identification': 6.714170529909472, 'viruse': 6.714170529909472, 'territorial': 6.714170529909472, 'epidemiologist': 6.714170529909472, 'sentinel': 6.714170529909472, 'practice': 6.714170529909472, 'physician': 6.714170529909472, 'unusual': 6.714170529909472, 'illness': 6.714170529909472, 'season': 6.714170529909472, 'essentially': 6.714170529909472, 'temporal': 6.714170529909472, 'pattern': 6.714170529909472, 'predominance': 6.714170529909472, 'shift': 6.714170529909472, 'course': 6.714170529909472, 'indice': 6.714170529909472, 'region': 6.714170529909472, 'predominate': 6.714170529909472, 'isolation': 6.714170529909472, 'subtype': 6.714170529909472, 'wane': 6.714170529909472, 'subsequently': 6.714170529909472, 'nursing': 6.714170529909472, 'alternate': 6.714170529909472, 'strain': 6.714170529909472, 'importance': 6.714170529909472, 'continual': 6.714170529909472, 'viral': 6.714170529909472, 'amantadine': 6.714170529909472, 'effective': 6.714170529909472, 'treatment': 6.714170529909472, 'prophylaxis': 6.714170529909472, 'interim': 6.714170529909472, 'analyse': 6.714170529909472, 'allow': 6.714170529909472, 'official': 6.714170529909472, 'make': 6.714170529909472, 'informed': 6.714170529909472, 'choice': 6.714170529909472, 'appropriate': 6.714170529909472, 'cdcs': 6.714170529909472, 'annual': 6.714170529909472, 'observe': 6.714170529909472, 'assess': 6.714170529909472, 'candidate': 6.714170529909472, 'inclusion': 6.714170529909472, 'component': 6.714170529909472, 'vaccine': 6.714170529909472, 'subsequent': 6.714170529909472, 'director': 6.714170529909472, 'rickettsial': 6.714170529909472, 'branch': 6.714170529909472, 'agency': 6.714170529909472, 'toxic': 6.714170529909472, 'substance': 6.714170529909472, 'pasteur': 6.714170529909472, 'schonberger': 6.714170529909472, 'epidemiology': 6.714170529909472, 'monthly': 6.714170529909472, 'assist': 6.714170529909472, 'reproductive': 6.714170529909472, 'technology': 6.714170529909472, 'follow': 6.714170529909472, 'first': 6.714170529909472, 'fertilization': 6.714170529909472, 'embryo': 6.714170529909472, 'transfer': 6.714170529909472, 'baby': 6.714170529909472, 'host': 6.714170529909472, 'gamete': 6.714170529909472, 'intrafallopian': 6.714170529909472, 'tube': 6.714170529909472, 'gift': 6.714170529909472, 'freeze': 6.714170529909472, 'together': 6.714170529909472, 'refer': 6.714170529909472, 'art': 6.714170529909472, 'procedure': 6.714170529909472, 'ovulation': 6.714170529909472, 'induction': 6.714170529909472, 'sperm': 6.714170529909472, 'insemination': 6.714170529909472, 'surgery': 6.714170529909472, 'tubal': 6.714170529909472, 'pathology': 6.714170529909472, 'still': 6.714170529909472, 'mainstay': 6.714170529909472, 'therapy': 6.714170529909472, 'infertility': 6.714170529909472, 'management': 6.714170529909472, 'fail': 6.714170529909472, 'proceed': 6.714170529909472, 'therefore': 6.714170529909472, 'comprehensive': 6.714170529909472, 'basic': 6.714170529909472, 'reproduction': 6.714170529909472, 'specialize': 6.714170529909472, 'tertiary': 6.714170529909472, 'patient': 6.714170529909472, 'can': 6.714170529909472, 'resolve': 6.714170529909472, 'traditional': 6.714170529909472, 'article': 6.714170529909472, 'describe': 6.714170529909472, 'center': 6.714170529909472, 'clarify': 6.714170529909472, 'application': 6.714170529909472, 'realistic': 6.714170529909472, 'expectation': 6.714170529909472, 'success': 6.714170529909472, 'ongoing': 6.714170529909472, 'improve': 6.714170529909472, 'future': 6.714170529909472, 'exclusively': 6.714170529909472, 'infertile': 6.714170529909472, 'couple': 6.714170529909472, 'embryos': 6.714170529909472, 'serious': 6.714170529909472, 'hereditary': 6.714170529909472, 'involve': 6.714170529909472, 'biopsye': 6.714170529909472, 'preimplantation': 6.714170529909472, 'human': 6.714170529909472, 'subject': 6.714170529909472, 'biopsie': 6.714170529909472, 'cell': 6.714170529909472, 'genetic': 6.714170529909472, 'dna': 6.714170529909472, 'amplification': 6.714170529909472, 'fluorescent': 6.714170529909472, 'situ': 6.714170529909472, 'hybridization': 6.714170529909472, 'successful': 6.714170529909472, 'example': 6.714170529909472, 'gene': 6.714170529909472, 'hope': 6.714170529909472, 'apply': 6.714170529909472, 'probe': 6.714170529909472, 'chromosome': 6.714170529909472, 'scientific': 6.714170529909472, 'counselling': 6.714170529909472, 'link': 6.714170529909472, 'disorder': 6.714170529909472, 'considerable': 6.714170529909472, 'clinical': 6.714170529909472, 'lie': 6.714170529909472, 'fact': 6.714170529909472, 'circumvent': 6.714170529909472, 'need': 6.714170529909472, 'possibility': 6.714170529909472, 'fetus': 6.714170529909472, 'order': 6.714170529909472, 'avoid': 6.714170529909472, 'advance': 6.714170529909472, 'endocrinology': 6.714170529909472, 'core': 6.714170529909472, 'unfertilized': 6.714170529909472, 'ovary': 6.714170529909472, 'resultant': 6.714170529909472, 'day': 6.714170529909472, 'uterus': 6.714170529909472, 'maintain': 6.714170529909472, 'incubator': 6.714170529909472, 'strictly': 6.714170529909472, 'atmospheric': 6.714170529909472, 'temperature': 6.714170529909472, 'process': 6.714170529909472, 'semen': 6.714170529909472, 'sample': 6.714170529909472, 'evaluate': 6.714170529909472, 'andrology': 6.714170529909472, 'subjective': 6.714170529909472, 'light': 6.714170529909472, 'microscopy': 6.714170529909472, 'computer': 6.714170529909472, 'seman': 6.714170529909472, 'ensure': 6.714170529909472, 'adequate': 6.714170529909472, 'egg': 6.714170529909472, 'indeed': 6.714170529909472, 'follicular': 6.714170529909472, 'development': 6.714170529909472, 'typically': 6.714170529909472, 'gonadotropin': 6.714170529909472, 'release': 6.714170529909472, 'analogue': 6.714170529909472, 'occasionally': 6.714170529909472, 'accomplish': 6.714170529909472, 'stimulated': 6.714170529909472, 'cycle': 6.714170529909472, 'utilize': 6.714170529909472, 'operating': 6.714170529909472, 'room': 6.714170529909472, 'undertake': 6.714170529909472, 'costly': 6.714170529909472, 'approach': 6.714170529909472, 'ultrasound': 6.714170529909472, 'guide': 6.714170529909472, 'unit': 6.714170529909472, 'sedate': 6.714170529909472, 'resort': 6.714170529909472, 'deficiencie': 6.714170529909472, 'ovulatory': 6.714170529909472, 'dysfunction': 6.714170529909472, 'endometriosis': 6.714170529909472, 'mild': 6.714170529909472, 'form': 6.714170529909472, 'accord': 6.714170529909472, 'registry': 6.714170529909472, 'nationwide': 6.714170529909472, 'stabilize': 6.714170529909472, 'percent': 6.714170529909472, 'undergo': 6.714170529909472, 'comparable': 6.714170529909472, 'nevertheless': 6.714170529909472, 'incidence': 6.714170529909472, 'disconcertingly': 6.714170529909472, 'address': 6.714170529909472, 'physiological': 6.714170529909472, 'limit': 6.714170529909472, 'achievement': 6.714170529909472, 'percentage': 6.714170529909472, 'recognize': 6.714170529909472, 'predictor': 6.714170529909472, 'outcome': 6.714170529909472, 'exogenous': 6.714170529909472, 'ovarian': 6.714170529909472, 'stimulation': 6.714170529909472, 'repeat': 6.714170529909472, 'attempt': 6.714170529909472, 'single': 6.714170529909472, 'determinant': 6.714170529909472, 'conception': 6.714170529909472, 'critical': 6.714170529909472, 'early': 6.714170529909472, 'opportunity': 6.714170529909472, 'failure': 6.714170529909472, 'underlie': 6.714170529909472, 'negative': 6.714170529909472, 'effect': 6.714170529909472, 'fertility': 6.714170529909472, 'clearly': 6.714170529909472, 'delineate': 6.714170529909472, 'recognition': 6.714170529909472, 'retrieval': 6.714170529909472, 'markedly': 6.714170529909472, 'retrieve': 6.714170529909472, 'hormonal': 6.714170529909472, 'background': 6.714170529909472, 'present': 6.714170529909472, 'unrelated': 6.714170529909472, 'uterine': 6.714170529909472, 'competency': 6.714170529909472, 'sustain': 6.714170529909472, 'investigate': 6.714170529909472, 'change': 6.714170529909472, 'determined': 6.714170529909472, 'chromosomally': 6.714170529909472, 'abnormal': 6.714170529909472, 'proportion': 6.714170529909472, 'abnormality': 6.714170529909472, 'accountable': 6.714170529909472, 'currently': 6.714170529909472, 'recourse': 6.714170529909472, 'donor': 6.714170529909472, 'recruitment': 6.714170529909472, 'volunteer': 6.714170529909472, 'satisfy': 6.714170529909472, 'list': 6.714170529909472, 'recipient': 6.714170529909472, 'interested': 6.714170529909472, 'usually': 6.714170529909472, 'laparoscope': 6.714170529909472, 'contrast': 6.714170529909472, 'introduce': 6.714170529909472, 'freshly': 6.714170529909472, 'luman': 6.714170529909472, 'fallopian': 6.714170529909472, 'average': 6.714170529909472, 'circumstance': 6.714170529909472, 'excess': 6.714170529909472, 'remainder': 6.714170529909472, 'ivf': 6.714170529909472, 'option': 6.714170529909472, 'freezing': 6.714170529909472, 'least': 6.714170529909472, 'patent': 6.714170529909472, 'idiopathic': 6.714170529909472, 'technique': 6.714170529909472, 'ivf_et': 6.714170529909472, 'view': 6.714170529909472, 'expect': 6.714170529909472, 'treat': 6.714170529909472, 'concern': 6.714170529909472, 'benefit': 6.714170529909472, 'cost': 6.714170529909472, 'minimal': 6.714170529909472, 'undergoing': 6.714170529909472, 'accrue': 6.714170529909472, 'quality': 6.714170529909472, 'fertilizability': 6.714170529909472, 'undoubtedly': 6.714170529909472, 'artificial': 6.714170529909472, 'environment': 6.714170529909472, 'total': 6.714170529909472, 'applied': 6.714170529909472, 'residual': 6.714170529909472, 'much': 6.714170529909472, 'legal': 6.714170529909472, 'ethical': 6.714170529909472, 'disposal': 6.714170529909472, 'stipulate': 6.714170529909472, 'american': 6.714170529909472, 'practical': 6.714170529909472, 'standpoint': 6.714170529909472, 'capability': 6.714170529909472, 'cryopreserve': 6.714170529909472, 'unaccepte': 6.714170529909472, 'severe': 6.714170529909472, 'few': 6.714170529909472, 'perccent': 6.714170529909472, 'normal': 6.714170529909472, 'morphology': 6.714170529909472, 'sub': 6.714170529909472, 'zonal': 6.714170529909472, 'insertion': 6.714170529909472, 'entail': 6.714170529909472, 'inject': 6.714170529909472, 'coating': 6.714170529909472, 'barrier': 6.714170529909472, 'normally': 6.714170529909472, 'penetrate': 6.714170529909472, 'enzymatic': 6.714170529909472, 'digestion': 6.714170529909472, 'world': 6.714170529909472, 'wide': 6.714170529909472, 'limitation': 6.714170529909472, 'impose': 6.714170529909472, 'inherent': 6.714170529909472, 'selection': 6.714170529909472, 'chosen': 6.714170529909472, 'manipulation': 6.714170529909472, 'unquestionably': 6.714170529909472, 'worthwhile': 6.714170529909472, 'establish': 6.714170529909472, 'internet': 6.714170529909472, 'fax': 6.714170529909472, 'bitnet': 6.714170529909472, 'fidonet': 6.714170529909472, 'packet': 6.714170529909472, 'ax': 6.714170529909472}, 6: {'steal': 3.2188758248682006, 'organization': 3.2188758248682006, 'line': 3.2188758248682006, 'distribution_usa': 3.2188758248682006, 'host': 3.2188758248682006, 'summary': 3.2188758248682006, 'see': 3.2188758248682006, 'plate': 3.2188758248682006, 'cbr': 3.2188758248682006, 'engine': 3.2188758248682006, 'number': 3.2188758248682006, 'turn': 3.2188758248682006, 'signal': 3.2188758248682006, 'mirror': 3.2188758248682006, 'light': 3.2188758248682006, 'tape': 3.2188758248682006, 'track': 3.2188758248682006, 'rider': 3.2188758248682006, 'spring': 3.2188758248682006, 'tomorrow': 3.2188758248682006, 'guess': 3.2188758248682006, 'help': 3.2188758248682006, 'find': 3.2188758248682006, 'baby': 3.2188758248682006, 'kjg': 3.2188758248682006}, 7: {'line': 3.871201010907891, 'article': 3.871201010907891, 'write': 3.871201010907891, 'boy': 3.871201010907891, 'embarasse': 3.871201010907891, 'trivial': 3.871201010907891, 'faq': 3.871201010907891, 'give': 3.871201010907891, 'point': 3.871201010907891, 'find': 3.871201010907891, 'center': 3.871201010907891, 'know': 3.871201010907891, 'circle': 3.871201010907891, 'immediately': 3.871201010907891, 'see': 3.871201010907891, 'straightforward': 3.871201010907891, 'way': 3.871201010907891, 'check': 3.871201010907891, 'geometry': 3.871201010907891, 'book': 3.871201010907891, 'farin': 3.871201010907891, 'still': 3.871201010907891, 'loss': 3.871201010907891, 'mercy': 3.871201010907891, 'provide': 3.871201010907891, 'solution': 3.871201010907891, 'would': 3.871201010907891, 'require': 3.871201010907891, 'space': 3.871201010907891, 'specifie': 3.871201010907891, 'sphere': 3.871201010907891, 'far': 3.871201010907891, 'prove': 3.871201010907891, 'exist': 3.871201010907891, 'distant': 3.871201010907891, 'may': 3.871201010907891, 'necessarily': 3.871201010907891, 'happen': 3.871201010907891, 'correct': 3.871201010907891, 'be': 3.871201010907891, 'wrong': 3.871201010907891, 'quite': 3.871201010907891, 'possibly': 3.871201010907891, 'email': 3.871201010907891, 'visit': 3.871201010907891, 'computer': 3.871201010907891, 'graphic': 3.871201010907891, 'researcher': 3.871201010907891}, 8: {'arrogance': 4.844187086458591, 'national_capital': 4.844187086458591, 'freenet': 4.844187086458591, 'line': 4.844187086458591, 'previous': 4.844187086458591, 'article': 4.844187086458591, 'say': 4.844187086458591, 'write': 4.844187086458591, 'demand': 4.844187086458591, 'rational': 4.844187086458591, 'proof': 4.844187086458591, 'god': 4.844187086458591, 'existence': 4.844187086458591, 'deny': 4.844187086458591, 'science': 4.844187086458591, 'reason': 4.844187086458591, 'nature': 4.844187086458591, 'prove': 4.844187086458591, 'ask': 4.844187086458591, 'believe': 4.844187086458591, 'blindly': 4.844187086458591, 'try': 4.844187086458591, 'part': 4.844187086458591, 'make': 4.844187086458591, 'question': 4.844187086458591, 'exist': 4.844187086458591, 'ability': 4.844187086458591, 'become': 4.844187086458591, 'ignorant': 4.844187086458591, 'animal': 4.844187086458591, 'want': 4.844187086458591, 'thing': 4.844187086458591, 'visible': 4.844187086458591, 'know': 4.844187086458591, 'be': 4.844187086458591, 'sure': 4.844187086458591, 'blindness': 4.844187086458591, 'come': 4.844187086458591, 'indeed': 4.844187086458591, 'insist': 4.844187086458591, 'draw': 4.844187086458591, 'conclusion': 4.844187086458591, 'evidence': 4.844187086458591, 'decide': 4.844187086458591, 'physical': 4.844187086458591, 'sense': 4.844187086458591, 'cut': 4.844187086458591, 'possibility': 4.844187086458591, 'reach': 4.844187086458591, 'sphere': 4.844187086458591, 'rather': 4.844187086458591, 'provocative': 4.844187086458591, 'inconclusive': 4.844187086458591, 'self': 4.844187086458591, 'explanatory': 4.844187086458591, 'claim': 4.844187086458591, 'receive': 4.844187086458591, 'different': 4.844187086458591, 'kind': 4.844187086458591, 'call': 4.844187086458591, 'faith': 4.844187086458591, 'gift': 4.844187086458591, 'choose': 4.844187086458591, 'reveal': 4.844187086458591, 'hide': 4.844187086458591, 'can': 4.844187086458591, 'tell': 4.844187086458591, 'will': 4.844187086458591, 'help': 4.844187086458591, 'wholly': 4.844187086458591, 'consistent': 4.844187086458591, 'revelation': 4.844187086458591, 'necessarilly': 4.844187086458591, 'case': 4.844187086458591, 'however': 4.844187086458591, 'must': 4.844187086458591, 'route': 4.844187086458591, 'may': 4.844187086458591, 'one': 4.844187086458591, 'provide': 4.844187086458591, 'non': 4.844187086458591, 'reality': 4.844187086458591, 'course': 4.844187086458591, 'type': 4.844187086458591, 'corresponding': 4.844187086458591, 'valid': 4.844187086458591, 'work': 4.844187086458591, 'impair': 4.844187086458591, 'people': 4.844187086458591, 'spiritually': 4.844187086458591, 'blind': 4.844187086458591, 'belief': 4.844187086458591, 'sight': 4.844187086458591, 'disbelief': 4.844187086458591, 'right': 4.844187086458591, 'alone': 4.844187086458591, 'picture': 4.844187086458591, 'hinduism': 4.844187086458591, 'less': 4.844187086458591, 'christianity': 4.844187086458591, 'oppose': 4.844187086458591, 'simply': 4.844187086458591, 'new': 4.844187086458591, 'source': 4.844187086458591, 'operate': 4.844187086458591, 'clear': 4.844187086458591, 'many': 4.844187086458591, 'system': 4.844187086458591, 'explain': 4.844187086458591, 'similarly': 4.844187086458591, 'religious': 4.844187086458591, 'believer': 4.844187086458591, 'general': 4.844187086458591, 'particular': 4.844187086458591, 'sift': 4.844187086458591, 'understanding': 4.844187086458591, 'good': 4.844187086458591, 'physical_universe': 4.844187086458591, 'also': 4.844187086458591, 'possess': 4.844187086458591, 'man': 4.844187086458591, 'doubt': 4.844187086458591, 'read': 4.844187086458591, 'see': 4.844187086458591, 'debate': 4.844187086458591, 'task': 4.844187086458591, 'jungle': 4.844187086458591}, 9: {'line': 5.351858133476067, 'host': 5.351858133476067, 'new': 5.351858133476067, 'alternative': 5.351858133476067, 'scout': 5.351858133476067, 'unacceptable': 5.351858133476067, 'bsa': 5.351858133476067, 'reason': 5.351858133476067, 'religious': 5.351858133476067, 'sexual': 5.351858133476067, 'preference': 5.351858133476067, 'announcement': 5.351858133476067, 'formal': 5.351858133476067, 'recently': 5.351858133476067, 'bear': 5.351858133476067, 'accord': 5.351858133476067, 'would': 5.351858133476067, 'exist': 5.351858133476067, 'education': 5.351858133476067, 'youth': 5.351858133476067, 'male': 5.351858133476067, 'female': 5.351858133476067, 'matter': 5.351858133476067, 'concern': 5.351858133476067, 'value': 5.351858133476067, 'relate': 5.351858133476067, 'responsibility': 5.351858133476067, 'environment': 5.351858133476067, 'incorporate': 5.351858133476067, 'article': 5.351858133476067, 'initial': 5.351858133476067, 'application': 5.351858133476067, 'service': 5.351858133476067, 'mark': 5.351858133476067, 'file': 5.351858133476067, 'draft': 5.351858133476067, 'bylaw': 5.351858133476067, 'contain': 5.351858133476067, 'follow': 5.351858133476067, 'statement': 5.351858133476067, 'mission': 5.351858133476067, 'objective': 5.351858133476067, 'adult': 5.351858133476067, 'member': 5.351858133476067, 'implement': 5.351858133476067, 'improved': 5.351858133476067, 'young': 5.351858133476067, 'people': 5.351858133476067, 'need': 5.351858133476067, 'conduct': 5.351858133476067, 'live': 5.351858133476067, 'steward': 5.351858133476067, 'earth': 5.351858133476067, 'leave': 5.351858133476067, 'well': 5.351858133476067, 'condition': 5.351858133476067, 'find': 5.351858133476067, 'otherwise': 5.351858133476067, 'act': 5.351858133476067, 'responsible': 5.351858133476067, 'moral': 5.351858133476067, 'ethical': 5.351858133476067, 'user': 5.351858133476067, 'shall': 5.351858133476067, 'seek': 5.351858133476067, 'serve': 5.351858133476067, 'catalyst': 5.351858133476067, 'focus': 5.351858133476067, 'common': 5.351858133476067, 'cause': 5.351858133476067, 'separate': 5.351858133476067, 'effort': 5.351858133476067, 'group': 5.351858133476067, 'desire': 5.351858133476067, 'preservation': 5.351858133476067, 'improvement': 5.351858133476067, 'must': 5.351858133476067, 'primary': 5.351858133476067, 'establish': 5.351858133476067, 'movement': 5.351858133476067, 'involve': 5.351858133476067, 'many': 5.351858133476067, 'environmentally': 5.351858133476067, 'concerned': 5.351858133476067, 'organization': 5.351858133476067, 'possible': 5.351858133476067, 'say': 5.351858133476067, 'participatory': 5.351858133476067, 'involvement': 5.351858133476067, 'appropriate': 5.351858133476067, 'area': 5.351858133476067, 'environmental': 5.351858133476067, 'develop': 5.351858133476067, 'provide': 5.351858133476067, 'branch': 5.351858133476067, 'full': 5.351858133476067, 'complement': 5.351858133476067, 'program': 5.351858133476067, 'material': 5.351858133476067, 'include': 5.351858133476067, 'suitable': 5.351858133476067, 'uniform': 5.351858133476067, 'badge': 5.351858133476067, 'write': 5.351858133476067, 'idea': 5.351858133476067, 'information': 5.351858133476067, 'literature': 5.351858133476067, 'item': 5.351858133476067, 'seem': 5.351858133476067, 'desirable': 5.351858133476067, 'assist': 5.351858133476067, 'recruit': 5.351858133476067, 'train': 5.351858133476067, 'necessary': 5.351858133476067, 'leadership': 5.351858133476067, 'enviroleague': 5.351858133476067, 'operate': 5.351858133476067, 'division': 5.351858133476067, 'elementary': 5.351858133476067, 'middle': 5.351858133476067, 'high': 5.351858133476067, 'school': 5.351858133476067, 'grade': 5.351858133476067, 'respectively': 5.351858133476067, 'formation': 5.351858133476067, 'team': 5.351858133476067, 'conscious': 5.351858133476067, 'local': 5.351858133476067, 'wish': 5.351858133476067, 'charter': 5.351858133476067, 'control': 5.351858133476067, 'actual': 5.351858133476067, 'leader': 5.351858133476067, 'nationally': 5.351858133476067, 'impose': 5.351858133476067, 'obstacle': 5.351858133476067, 'membership': 5.351858133476067, 'status': 5.351858133476067, 'base': 5.351858133476067, 'relevant': 5.351858133476067, 'improper': 5.351858133476067, 'accept': 5.351858133476067, 'may': 5.351858133476067, 'however': 5.351858133476067, 'certain': 5.351858133476067, 'additional': 5.351858133476067, 'standard': 5.351858133476067, 'commit': 5.351858133476067, 'form': 5.351858133476067, 'soon': 5.351858133476067, 'nearby': 5.351858133476067, 'restriction': 5.351858133476067, 'particularly': 5.351858133476067, 'principle': 5.351858133476067, 'much': 5.351858133476067, 'contribute': 5.351858133476067, 'thus': 5.351858133476067, 'top': 5.351858133476067, 'become': 5.351858133476067, 'involved': 5.351858133476067, 'govern': 5.351858133476067, 'administrative': 5.351858133476067, 'similar': 5.351858133476067, 'function': 5.351858133476067, 'national': 5.351858133476067, 'level': 5.351858133476067, 'development': 5.351858133476067, 'time': 5.351858133476067, 'copy': 5.351858133476067, 'portion': 5.351858133476067, 'manual': 5.351858133476067, 'library': 5.351858133476067, 'update': 5.351858133476067, 'take': 5.351858133476067, 'place': 5.351858133476067, 'compuserve': 5.351858133476067, 'proud': 5.351858133476067, 'founder': 5.351858133476067, 'choose': 5.351858133476067, 'electronic': 5.351858133476067, 'medium': 5.351858133476067, 'make': 5.351858133476067, 'first': 5.351858133476067, 'public': 5.351858133476067, 'simultaneously': 5.351858133476067, 'outdoor': 5.351858133476067, 'forum': 5.351858133476067, 'go': 5.351858133476067, 'message': 5.351858133476067, 'name': 5.351858133476067, 'subsequently': 5.351858133476067, 'hold': 5.351858133476067, 'elect': 5.351858133476067, 'chief': 5.351858133476067, 'reach': 5.351858133476067, 'home': 5.351858133476067, 'case': 5.351858133476067, 'real': 5.351858133476067, 'also': 5.351858133476067, 'mail': 5.351858133476067, 'address': 5.351858133476067, 'start': 5.351858133476067, 'contact': 5.351858133476067, 'receive': 5.351858133476067, 'ascii': 5.351858133476067, 'believe': 5.351858133476067, 'speak': 5.351858133476067, 'company': 5.351858133476067, 'today': 5.351858133476067, 'special_investor': 5.351858133476067, 'packet': 5.351858133476067}}\n"
          ],
          "name": "stdout"
        }
      ]
    },
    {
      "cell_type": "code",
      "metadata": {
        "id": "ryQF00ECnHrA"
      },
      "source": [
        "from collections import Counter"
      ],
      "execution_count": null,
      "outputs": []
    },
    {
      "cell_type": "code",
      "metadata": {
        "id": "HHm1BjG25c7_"
      },
      "source": [
        "all_tf_idf = []\n",
        "for i in range (0,10):\n",
        "  num = groups[i]\n",
        "  ttfidf = []\n",
        "  for n in num:\n",
        "    need = texts[n-1]\n",
        "    tf_ = tfs[i][1]\n",
        "    idf_ = idfs[i]\n",
        "    sor_words = []\n",
        "    words = Counter()\n",
        "    for word in need:\n",
        "      if word in tf_ and word in idf_:\n",
        "        tf = tf_[word]\n",
        "        idf = idfs[i][word]\n",
        "        tfidf = tf*idf\n",
        "        #print(i,n,word,tfidf)\n",
        "        words.update({word:tfidf})\n",
        "    d = dict(words.most_common(5))\n",
        "    sor_words.append(d)\n",
        "    #print(sor_words[0])\n",
        "    for w in sor_words:\n",
        "      #print(w,n)\n",
        "      for key, value in w.items():\n",
        "        charact = [key , value, n, i]\n",
        "        all_tf_idf.append(charact)\n",
        "#print(all_tf_idf)"
      ],
      "execution_count": 149,
      "outputs": []
    },
    {
      "cell_type": "code",
      "metadata": {
        "id": "bVR3r7ZCMblD",
        "outputId": "fe546228-f28f-48e5-ee2e-080ed48c88bc",
        "colab": {
          "base_uri": "https://localhost:8080/",
          "height": 415
        }
      },
      "source": [
        "df = pd.DataFrame(all_tf_idf)\n",
        "df.columns = ['word','tf_idf', 'text_number', 'topic']\n",
        "df"
      ],
      "execution_count": 150,
      "outputs": [
        {
          "output_type": "execute_result",
          "data": {
            "text/html": [
              "<div>\n",
              "<style scoped>\n",
              "    .dataframe tbody tr th:only-of-type {\n",
              "        vertical-align: middle;\n",
              "    }\n",
              "\n",
              "    .dataframe tbody tr th {\n",
              "        vertical-align: top;\n",
              "    }\n",
              "\n",
              "    .dataframe thead th {\n",
              "        text-align: right;\n",
              "    }\n",
              "</style>\n",
              "<table border=\"1\" class=\"dataframe\">\n",
              "  <thead>\n",
              "    <tr style=\"text-align: right;\">\n",
              "      <th></th>\n",
              "      <th>word</th>\n",
              "      <th>tf_idf</th>\n",
              "      <th>text_number</th>\n",
              "      <th>topic</th>\n",
              "    </tr>\n",
              "  </thead>\n",
              "  <tbody>\n",
              "    <tr>\n",
              "      <th>0</th>\n",
              "      <td>year</td>\n",
              "      <td>1.028131</td>\n",
              "      <td>18</td>\n",
              "      <td>0</td>\n",
              "    </tr>\n",
              "    <tr>\n",
              "      <th>1</th>\n",
              "      <td>make</td>\n",
              "      <td>0.411252</td>\n",
              "      <td>18</td>\n",
              "      <td>0</td>\n",
              "    </tr>\n",
              "    <tr>\n",
              "      <th>2</th>\n",
              "      <td>get</td>\n",
              "      <td>0.370127</td>\n",
              "      <td>18</td>\n",
              "      <td>0</td>\n",
              "    </tr>\n",
              "    <tr>\n",
              "      <th>3</th>\n",
              "      <td>would</td>\n",
              "      <td>0.370127</td>\n",
              "      <td>18</td>\n",
              "      <td>0</td>\n",
              "    </tr>\n",
              "    <tr>\n",
              "      <th>4</th>\n",
              "      <td>good</td>\n",
              "      <td>0.287877</td>\n",
              "      <td>18</td>\n",
              "      <td>0</td>\n",
              "    </tr>\n",
              "    <tr>\n",
              "      <th>...</th>\n",
              "      <td>...</td>\n",
              "      <td>...</td>\n",
              "      <td>...</td>\n",
              "      <td>...</td>\n",
              "    </tr>\n",
              "    <tr>\n",
              "      <th>42884</th>\n",
              "      <td>enviroleague</td>\n",
              "      <td>1.337965</td>\n",
              "      <td>11277</td>\n",
              "      <td>9</td>\n",
              "    </tr>\n",
              "    <tr>\n",
              "      <th>42885</th>\n",
              "      <td>youth</td>\n",
              "      <td>1.057157</td>\n",
              "      <td>11277</td>\n",
              "      <td>9</td>\n",
              "    </tr>\n",
              "    <tr>\n",
              "      <th>42886</th>\n",
              "      <td>program</td>\n",
              "      <td>1.057157</td>\n",
              "      <td>11277</td>\n",
              "      <td>9</td>\n",
              "    </tr>\n",
              "    <tr>\n",
              "      <th>42887</th>\n",
              "      <td>organization</td>\n",
              "      <td>0.809386</td>\n",
              "      <td>11277</td>\n",
              "      <td>9</td>\n",
              "    </tr>\n",
              "    <tr>\n",
              "      <th>42888</th>\n",
              "      <td>adult</td>\n",
              "      <td>0.412952</td>\n",
              "      <td>11277</td>\n",
              "      <td>9</td>\n",
              "    </tr>\n",
              "  </tbody>\n",
              "</table>\n",
              "<p>42889 rows × 4 columns</p>\n",
              "</div>"
            ],
            "text/plain": [
              "               word    tf_idf  text_number  topic\n",
              "0              year  1.028131           18      0\n",
              "1              make  0.411252           18      0\n",
              "2               get  0.370127           18      0\n",
              "3             would  0.370127           18      0\n",
              "4              good  0.287877           18      0\n",
              "...             ...       ...          ...    ...\n",
              "42884  enviroleague  1.337965        11277      9\n",
              "42885         youth  1.057157        11277      9\n",
              "42886       program  1.057157        11277      9\n",
              "42887  organization  0.809386        11277      9\n",
              "42888         adult  0.412952        11277      9\n",
              "\n",
              "[42889 rows x 4 columns]"
            ]
          },
          "metadata": {
            "tags": []
          },
          "execution_count": 150
        }
      ]
    },
    {
      "cell_type": "markdown",
      "metadata": {
        "id": "vHBwnbsfvZRh"
      },
      "source": [
        "Coherence score - это показатель, измеряющий оценку одной темы (topic) путем оценки степени семантического сходства между словами в этой теме, обладающими наибольшими весами."
      ]
    }
  ]
}